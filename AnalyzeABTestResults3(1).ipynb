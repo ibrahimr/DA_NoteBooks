{
 "cells": [
  {
   "cell_type": "markdown",
   "metadata": {},
   "source": [
    "## Analyze A/B Test Results\n",
    "\n",
    " \n",
    "## Table of Contents\n",
    "- [Introduction](#intro)\n",
    "- [Part I - Probability](#probability)\n",
    "- [Part II - A/B Test](#ab_test)\n",
    "- [Part III - Regression](#regression)\n",
    "\n",
    "\n",
    "<a id='intro'></a>\n",
    "### Introduction\n",
    "\n",
    "<UL>\n",
    "    <LI>A/B tests , understand the results of an A/B test run by an e-commerce website.  \n",
    "    <LI> goal is to   through  help the company understand if they should implement the new page, keep the old page, or perhaps run the experiment longer to make their decision.\n",
    "        <LI>  As a final check, assure you meet all the criteria on the [RUBRIC](https://review.udacity.com/#!/projects/37e27304-ad47-4eb0-a1ab-8c12f60e43d0/rubric).\n",
    "\n",
    "<a id='probability'></a>\n",
    "#### Part I - Probability\n",
    "\n",
    "To get started, let's import our libraries."
   ]
  },
  {
   "cell_type": "code",
   "execution_count": 1,
   "metadata": {},
   "outputs": [],
   "source": [
    "import pandas as pd\n",
    "import numpy as np\n",
    "import random\n",
    "import matplotlib.pyplot as plt\n",
    "%matplotlib inline\n",
    "#We are setting the seed to assure you get the same answers on quizzes as we set up\n",
    "random.seed(42)"
   ]
  },
  {
   "cell_type": "code",
   "execution_count": 2,
   "metadata": {},
   "outputs": [],
   "source": [
    "#from google.colab import files\n",
    "#uploaded = files.upload()"
   ]
  },
  {
   "cell_type": "markdown",
   "metadata": {},
   "source": [
    "`1.` Now, read in the `ab_data.csv` data. Store it in `df`.  **Use your dataframe to answer the questions in Quiz 1 of the classroom.**\n",
    "\n",
    "a. Read in the dataset and take a look at the top few rows here:"
   ]
  },
  {
   "cell_type": "code",
   "execution_count": 5,
   "metadata": {},
   "outputs": [
    {
     "data": {
      "text/html": [
       "<div>\n",
       "<style scoped>\n",
       "    .dataframe tbody tr th:only-of-type {\n",
       "        vertical-align: middle;\n",
       "    }\n",
       "\n",
       "    .dataframe tbody tr th {\n",
       "        vertical-align: top;\n",
       "    }\n",
       "\n",
       "    .dataframe thead th {\n",
       "        text-align: right;\n",
       "    }\n",
       "</style>\n",
       "<table border=\"1\" class=\"dataframe\">\n",
       "  <thead>\n",
       "    <tr style=\"text-align: right;\">\n",
       "      <th></th>\n",
       "      <th>user_id</th>\n",
       "      <th>timestamp</th>\n",
       "      <th>group</th>\n",
       "      <th>landing_page</th>\n",
       "      <th>converted</th>\n",
       "    </tr>\n",
       "  </thead>\n",
       "  <tbody>\n",
       "    <tr>\n",
       "      <td>0</td>\n",
       "      <td>851104</td>\n",
       "      <td>2017-01-21 22:11:48.556739</td>\n",
       "      <td>control</td>\n",
       "      <td>old_page</td>\n",
       "      <td>0</td>\n",
       "    </tr>\n",
       "    <tr>\n",
       "      <td>1</td>\n",
       "      <td>804228</td>\n",
       "      <td>2017-01-12 08:01:45.159739</td>\n",
       "      <td>control</td>\n",
       "      <td>old_page</td>\n",
       "      <td>0</td>\n",
       "    </tr>\n",
       "    <tr>\n",
       "      <td>2</td>\n",
       "      <td>661590</td>\n",
       "      <td>2017-01-11 16:55:06.154213</td>\n",
       "      <td>treatment</td>\n",
       "      <td>new_page</td>\n",
       "      <td>0</td>\n",
       "    </tr>\n",
       "    <tr>\n",
       "      <td>3</td>\n",
       "      <td>853541</td>\n",
       "      <td>2017-01-08 18:28:03.143765</td>\n",
       "      <td>treatment</td>\n",
       "      <td>new_page</td>\n",
       "      <td>0</td>\n",
       "    </tr>\n",
       "    <tr>\n",
       "      <td>4</td>\n",
       "      <td>864975</td>\n",
       "      <td>2017-01-21 01:52:26.210827</td>\n",
       "      <td>control</td>\n",
       "      <td>old_page</td>\n",
       "      <td>1</td>\n",
       "    </tr>\n",
       "  </tbody>\n",
       "</table>\n",
       "</div>"
      ],
      "text/plain": [
       "   user_id                   timestamp      group landing_page  converted\n",
       "0   851104  2017-01-21 22:11:48.556739    control     old_page          0\n",
       "1   804228  2017-01-12 08:01:45.159739    control     old_page          0\n",
       "2   661590  2017-01-11 16:55:06.154213  treatment     new_page          0\n",
       "3   853541  2017-01-08 18:28:03.143765  treatment     new_page          0\n",
       "4   864975  2017-01-21 01:52:26.210827    control     old_page          1"
      ]
     },
     "execution_count": 5,
     "metadata": {},
     "output_type": "execute_result"
    }
   ],
   "source": [
    "df = pd.read_csv('./ab_data.csv')\n",
    "#countries = pd.read_excel ('countries.csv')  df = pd.read_csv('ab_data.csv')\n",
    "df.head()\n"
   ]
  },
  {
   "cell_type": "markdown",
   "metadata": {},
   "source": [
    "b. Use the below cell to find the number of rows in the dataset."
   ]
  },
  {
   "cell_type": "code",
   "execution_count": 4,
   "metadata": {},
   "outputs": [
    {
     "data": {
      "text/plain": [
       "294478"
      ]
     },
     "execution_count": 4,
     "metadata": {},
     "output_type": "execute_result"
    }
   ],
   "source": [
    " df.shape[0]"
   ]
  },
  {
   "cell_type": "markdown",
   "metadata": {},
   "source": [
    "c. The number of unique users in the dataset."
   ]
  },
  {
   "cell_type": "markdown",
   "metadata": {
    "collapsed": true
   },
   "source": [
    "print(df.shape)\n",
    "df['user_id'].nunique()\n",
    "print(\"number of duplicated users\")\n",
    "print(df.shape[0] - df['user_id'].nunique())\n",
    "print(\"number of users enterd the same  webisite evaluation is \")\n",
    "print( df.duplicated().sum() )"
   ]
  },
  {
   "cell_type": "markdown",
   "metadata": {
    "collapsed": true
   },
   "source": [
    "d. The proportion of users converted."
   ]
  },
  {
   "cell_type": "code",
   "execution_count": 5,
   "metadata": {},
   "outputs": [
    {
     "data": {
      "text/plain": [
       "98.67766013080774"
      ]
     },
     "execution_count": 5,
     "metadata": {},
     "output_type": "execute_result"
    }
   ],
   "source": [
    "(df['user_id'].nunique() / df.shape[0] )  *100"
   ]
  },
  {
   "cell_type": "markdown",
   "metadata": {
    "collapsed": true
   },
   "source": [
    "e. The number of times the `new_page` and `treatment` don't line up."
   ]
  },
  {
   "cell_type": "code",
   "execution_count": 6,
   "metadata": {},
   "outputs": [
    {
     "data": {
      "text/plain": [
       "3893"
      ]
     },
     "execution_count": 6,
     "metadata": {},
     "output_type": "execute_result"
    }
   ],
   "source": [
    "df[((df['group'] == 'treatment') == (df['landing_page'] == 'old_page'))].shape[0]"
   ]
  },
  {
   "cell_type": "code",
   "execution_count": 7,
   "metadata": {},
   "outputs": [
    {
     "data": {
      "text/plain": [
       "3893"
      ]
     },
     "execution_count": 7,
     "metadata": {},
     "output_type": "execute_result"
    }
   ],
   "source": [
    "df[((df['group'] == 'control') == (df['landing_page'] == 'new_page'))].shape[0]"
   ]
  },
  {
   "cell_type": "markdown",
   "metadata": {},
   "source": [
    "f. Do any of the rows have missing values?"
   ]
  },
  {
   "cell_type": "code",
   "execution_count": 16,
   "metadata": {},
   "outputs": [
    {
     "data": {
      "text/plain": [
       "user_id         0\n",
       "timestamp       0\n",
       "group           0\n",
       "landing_page    0\n",
       "converted       0\n",
       "dtype: int64"
      ]
     },
     "execution_count": 16,
     "metadata": {},
     "output_type": "execute_result"
    }
   ],
   "source": [
    "df.loc[:, :].isnull().sum()\n",
    "print( df.isna().sum() )\n",
    "print(df.isin([np.nan]).sum() )"
   ]
  },
  {
   "cell_type": "markdown",
   "metadata": {},
   "source": [
    "<font color = 'darkblue'> <B> Non of the rows or coulmnus has an empty value </B> </font>"
   ]
  },
  {
   "cell_type": "markdown",
   "metadata": {},
   "source": [
    "`2.` For the rows where **treatment** is not aligned with **new_page** or **control** is not aligned with **old_page**, we cannot be sure if this row truly received the new or old page.  Use **Quiz 2** in the classroom to provide how we should handle these rows.  \n",
    "\n",
    "a. Now use the answer to the quiz to create a new dataset that meets the specifications from the quiz.  Store your new dataframe in **df2**."
   ]
  },
  {
   "cell_type": "code",
   "execution_count": 18,
   "metadata": {},
   "outputs": [
    {
     "data": {
      "text/plain": [
       "array([   0,    0,    0, ..., 3892, 3892, 3892])"
      ]
     },
     "execution_count": 18,
     "metadata": {},
     "output_type": "execute_result"
    }
   ],
   "source": [
    "indexes=np.where( df[((df['group'] == 'treatment') == (df['landing_page'] == 'new_page')) == False] )[0]\n",
    "indexes "
   ]
  },
  {
   "cell_type": "code",
   "execution_count": 19,
   "metadata": {},
   "outputs": [],
   "source": [
    "df2=pd.DataFrame()\n"
   ]
  },
  {
   "cell_type": "code",
   "execution_count": 20,
   "metadata": {},
   "outputs": [],
   "source": [
    "df2=df2.append(df [(df.group == 'control') & (df.landing_page == 'old_page')] )"
   ]
  },
  {
   "cell_type": "code",
   "execution_count": 21,
   "metadata": {},
   "outputs": [],
   "source": [
    "df2=df2.append(df[(df.group == 'treatment') & (df.landing_page == 'new_page')] )"
   ]
  },
  {
   "cell_type": "code",
   "execution_count": 22,
   "metadata": {},
   "outputs": [
    {
     "data": {
      "text/html": [
       "<div>\n",
       "<style scoped>\n",
       "    .dataframe tbody tr th:only-of-type {\n",
       "        vertical-align: middle;\n",
       "    }\n",
       "\n",
       "    .dataframe tbody tr th {\n",
       "        vertical-align: top;\n",
       "    }\n",
       "\n",
       "    .dataframe thead th {\n",
       "        text-align: right;\n",
       "    }\n",
       "</style>\n",
       "<table border=\"1\" class=\"dataframe\">\n",
       "  <thead>\n",
       "    <tr style=\"text-align: right;\">\n",
       "      <th></th>\n",
       "      <th>user_id</th>\n",
       "      <th>timestamp</th>\n",
       "      <th>group</th>\n",
       "      <th>landing_page</th>\n",
       "      <th>converted</th>\n",
       "    </tr>\n",
       "  </thead>\n",
       "  <tbody>\n",
       "    <tr>\n",
       "      <td>294462</td>\n",
       "      <td>677163</td>\n",
       "      <td>2017-01-03 19:41:51.902148</td>\n",
       "      <td>treatment</td>\n",
       "      <td>new_page</td>\n",
       "      <td>0</td>\n",
       "    </tr>\n",
       "    <tr>\n",
       "      <td>294465</td>\n",
       "      <td>925675</td>\n",
       "      <td>2017-01-07 20:38:26.346410</td>\n",
       "      <td>treatment</td>\n",
       "      <td>new_page</td>\n",
       "      <td>0</td>\n",
       "    </tr>\n",
       "    <tr>\n",
       "      <td>294468</td>\n",
       "      <td>643562</td>\n",
       "      <td>2017-01-02 19:20:05.460595</td>\n",
       "      <td>treatment</td>\n",
       "      <td>new_page</td>\n",
       "      <td>0</td>\n",
       "    </tr>\n",
       "    <tr>\n",
       "      <td>294472</td>\n",
       "      <td>822004</td>\n",
       "      <td>2017-01-04 03:36:46.071379</td>\n",
       "      <td>treatment</td>\n",
       "      <td>new_page</td>\n",
       "      <td>0</td>\n",
       "    </tr>\n",
       "    <tr>\n",
       "      <td>294477</td>\n",
       "      <td>715931</td>\n",
       "      <td>2017-01-16 12:40:24.467417</td>\n",
       "      <td>treatment</td>\n",
       "      <td>new_page</td>\n",
       "      <td>0</td>\n",
       "    </tr>\n",
       "  </tbody>\n",
       "</table>\n",
       "</div>"
      ],
      "text/plain": [
       "        user_id                   timestamp      group landing_page  converted\n",
       "294462   677163  2017-01-03 19:41:51.902148  treatment     new_page          0\n",
       "294465   925675  2017-01-07 20:38:26.346410  treatment     new_page          0\n",
       "294468   643562  2017-01-02 19:20:05.460595  treatment     new_page          0\n",
       "294472   822004  2017-01-04 03:36:46.071379  treatment     new_page          0\n",
       "294477   715931  2017-01-16 12:40:24.467417  treatment     new_page          0"
      ]
     },
     "execution_count": 22,
     "metadata": {},
     "output_type": "execute_result"
    }
   ],
   "source": [
    "df2.tail()"
   ]
  },
  {
   "cell_type": "code",
   "execution_count": 23,
   "metadata": {},
   "outputs": [
    {
     "data": {
      "text/plain": [
       "0"
      ]
     },
     "execution_count": 23,
     "metadata": {},
     "output_type": "execute_result"
    }
   ],
   "source": [
    "# Double Check all of the correct rows were removed - this should be 0\n",
    "df2[((df2['group'] == 'treatment') == (df2['landing_page'] == 'new_page')) == False].shape[0]"
   ]
  },
  {
   "cell_type": "markdown",
   "metadata": {},
   "source": [
    "`3.` Use **df2** and the cells below to answer questions for **Quiz3** in the classroom."
   ]
  },
  {
   "cell_type": "markdown",
   "metadata": {},
   "source": [
    "a. How many unique **user_id**s are in **df2**?"
   ]
  },
  {
   "cell_type": "code",
   "execution_count": 26,
   "metadata": {},
   "outputs": [
    {
     "name": "stdout",
     "output_type": "stream",
     "text": [
      "290585\n"
     ]
    },
    {
     "data": {
      "text/plain": [
       "290584"
      ]
     },
     "execution_count": 26,
     "metadata": {},
     "output_type": "execute_result"
    }
   ],
   "source": [
    "print(np.count_nonzero( df2['user_id']  )) \n",
    "df2['user_id'].nunique() "
   ]
  },
  {
   "cell_type": "markdown",
   "metadata": {
    "collapsed": true
   },
   "source": [
    "b. There is one **user_id** repeated in **df2**.  What is it?"
   ]
  },
  {
   "cell_type": "code",
   "execution_count": 42,
   "metadata": {},
   "outputs": [
    {
     "data": {
      "text/plain": [
       "2893    773192\n",
       "Name: user_id, dtype: int64"
      ]
     },
     "execution_count": 42,
     "metadata": {},
     "output_type": "execute_result"
    }
   ],
   "source": [
    "uid =df2[df2['user_id'].duplicated()].user_id "
   ]
  },
  {
   "cell_type": "code",
   "execution_count": 47,
   "metadata": {},
   "outputs": [
    {
     "data": {
      "text/plain": [
       "array([773192])"
      ]
     },
     "execution_count": 47,
     "metadata": {},
     "output_type": "execute_result"
    }
   ],
   "source": [
    "uid.values\n",
    " "
   ]
  },
  {
   "cell_type": "markdown",
   "metadata": {},
   "source": [
    "c. What is the row information for the repeat **user_id**? "
   ]
  },
  {
   "cell_type": "code",
   "execution_count": 51,
   "metadata": {},
   "outputs": [
    {
     "name": "stdout",
     "output_type": "stream",
     "text": [
      "      user_id                   timestamp      group landing_page  converted\n",
      "1899   773192  2017-01-09 05:37:58.781806  treatment     new_page          0\n",
      "2893   773192  2017-01-14 02:55:59.590927  treatment     new_page          0\n"
     ]
    },
    {
     "data": {
      "text/plain": [
       "Int64Index([2893], dtype='int64')"
      ]
     },
     "execution_count": 51,
     "metadata": {},
     "output_type": "execute_result"
    }
   ],
   "source": [
    "print( df2[ df2['user_id'].isin (uid.values )] )\n",
    "df2[df2['user_id'].duplicated()].index"
   ]
  },
  {
   "cell_type": "markdown",
   "metadata": {},
   "source": [
    "d. Remove **one** of the rows with a duplicate **user_id**, but keep your dataframe as **df2**."
   ]
  },
  {
   "cell_type": "code",
   "execution_count": 52,
   "metadata": {},
   "outputs": [],
   "source": [
    "df['user_id'].drop_duplicates(inplace=True)"
   ]
  },
  {
   "cell_type": "markdown",
   "metadata": {},
   "source": [
    "`4.` Use **df2** in the below cells to answer the quiz questions related to **Quiz 4** in the classroom.\n",
    "\n",
    "a. What is the probability of an individual converting regardless of the page they receive?"
   ]
  },
  {
   "cell_type": "code",
   "execution_count": 53,
   "metadata": {},
   "outputs": [
    {
     "name": "stdout",
     "output_type": "stream",
     "text": [
      "   user_id                   timestamp      group landing_page  converted\n",
      "0   851104  2017-01-21 22:11:48.556739    control     old_page          0\n",
      "1   804228  2017-01-12 08:01:45.159739    control     old_page          0\n",
      "2   661590  2017-01-11 16:55:06.154213  treatment     new_page          0\n",
      "3   853541  2017-01-08 18:28:03.143765  treatment     new_page          0\n",
      "4   864975  2017-01-21 01:52:26.210827    control     old_page          1\n",
      "P(converted)=\n"
     ]
    },
    {
     "data": {
      "text/plain": [
       "0.11959667567149027"
      ]
     },
     "execution_count": 53,
     "metadata": {},
     "output_type": "execute_result"
    }
   ],
   "source": [
    "print(df.head())\n",
    "print('P(converted)=')\n",
    "df2.converted.sum() / df2.shape[0]"
   ]
  },
  {
   "cell_type": "markdown",
   "metadata": {},
   "source": [
    "<p style=\"color:red\">  0.12"
   ]
  },
  {
   "cell_type": "markdown",
   "metadata": {},
   "source": [
    "b. Given that an individual was in the `control` group, what is the probability they converted?"
   ]
  },
  {
   "cell_type": "code",
   "execution_count": 88,
   "metadata": {},
   "outputs": [
    {
     "data": {
      "text/plain": [
       "0.11880724790277405"
      ]
     },
     "execution_count": 88,
     "metadata": {},
     "output_type": "execute_result"
    }
   ],
   "source": [
    "#control_conv_group = df2[(df2['group'] =='control' ) &  df2['converted'] ==1 ].shape[0]\n",
    "#print('P(converted from control group,)=')\n",
    "\n",
    "#control_conv_group / df2.converted.sum() \n",
    "\n",
    "np.mean( df2[ df2['landing_page'] == 'new_page' ].converted   )\n",
    "#np.mean(df2[(df2['landing_page'] =='new_page' ) &  df2['converted']  ] )"
   ]
  },
  {
   "cell_type": "markdown",
   "metadata": {},
   "source": [
    "<font color= 'red ' > 0.12, do not get it why it differ from <BR>\n",
    "    <h2> #np.mean(df2[(df2['landing_page'] =='new_page' ) &  df2['converted']  ] )  "
   ]
  },
  {
   "cell_type": "markdown",
   "metadata": {},
   "source": [
    "c. Given that an individual was in the `treatment` group, what is the probability they converted?"
   ]
  },
  {
   "cell_type": "code",
   "execution_count": 89,
   "metadata": {
    "scrolled": true
   },
   "outputs": [
    {
     "data": {
      "text/plain": [
       "0.1203863045004612"
      ]
     },
     "execution_count": 89,
     "metadata": {},
     "output_type": "execute_result"
    }
   ],
   "source": [
    "#control_conv_group = df2[(df2['group'] =='treatment' ) &  df2['converted'] ==1 ].shape[0]\n",
    "#print('P(converted from treatment group,)=')\n",
    "\n",
    "#control_conv_group / df2.converted.sum() \n",
    "np.mean( df2[ df2['landing_page'] == 'old_page' ].converted)"
   ]
  },
  {
   "cell_type": "markdown",
   "metadata": {},
   "source": [
    "<p style=\"color:red\">  0.12"
   ]
  },
  {
   "cell_type": "markdown",
   "metadata": {},
   "source": [
    "d. What is the probability that an individual received the new page?"
   ]
  },
  {
   "cell_type": "code",
   "execution_count": 70,
   "metadata": {},
   "outputs": [
    {
     "data": {
      "text/plain": [
       "11.959667567149026"
      ]
     },
     "execution_count": 70,
     "metadata": {},
     "output_type": "execute_result"
    }
   ],
   "source": [
    "#df2[(df2['landing_page'] =='old_page' )  ].shape[0] / df2.shape[0]\n",
    "df2[\"converted\"].sum() / len(df2) * 100"
   ]
  },
  {
   "cell_type": "markdown",
   "metadata": {},
   "source": [
    "<p style=\"color:red\">  0.12"
   ]
  },
  {
   "cell_type": "markdown",
   "metadata": {},
   "source": [
    "<h1> <p style=\"color:darkred\"> this is reviewer comment and probability shouldnt be more than one  ? cant get this!\n",
    "    "
   ]
  },
  {
   "cell_type": "markdown",
   "metadata": {},
   "source": [
    "e. Consider your results from a. through d. above, and explain below whether you think there is sufficient evidence to say that the new treatment page leads to more conversions."
   ]
  },
  {
   "cell_type": "markdown",
   "metadata": {},
   "source": [
    "<p style=\"color:red\"> <B> conversion properability from treatment and control gruoup seems to be the same, The company shouldnt take a decsion based on this data and might gather more data or simply sumulate it then take decision ."
   ]
  },
  {
   "cell_type": "markdown",
   "metadata": {},
   "source": [
    "<p style=\"color:red\"> <B>  moving to the new website has no differ from holding the old one"
   ]
  },
  {
   "cell_type": "markdown",
   "metadata": {},
   "source": [
    "<a id='ab_test'></a>\n",
    "### Part II - A/B Test\n",
    "\n",
    "Notice that because of the time stamp associated with each event, you could technically run a hypothesis test continuously as each observation was observed.  \n",
    "\n",
    "However, then the hard question is do you stop as soon as one page is considered significantly better than another or does it need to happen consistently for a certain amount of time?  How long do you run to render a decision that neither page is better than another?  \n",
    "\n",
    "These questions are the difficult parts associated with A/B tests in general.  <p style=\"color:red\">  \n",
    "\n",
    "\n",
    "`1.` For now, consider you need to make the decision just based on all the data provided.  If you want to assume that the old page is better unless the new page proves to be definitely better at a Type I error rate of 5%, what should your null and alternative hypotheses be?  You can state your hypothesis in terms of words or in terms of **$p_{old}$** and **$p_{new}$**, which are the converted rates for the old and new pages."
   ]
  },
  {
   "cell_type": "markdown",
   "metadata": {},
   "source": [
    "<p style=\"color:green\"> <B> \n",
    "**Put your answer here.**<BR>\n",
    "H<sub>0</sub> : P<sub>new</sub> <= P<sub>old</sub>  <br>\n",
    "H<sub>1</sub> : P<sub>new</sub> >   P<sub>old</sub> <br>\n",
    "alpha=5% <br>\n",
    "beta = 95%  <br>\n",
    "type 1 error the new page is better and the user thinks the old is the one and do not convert <BR>  </P>\n",
    "    \n",
    "<font color = \"red\"> Reviewer comment was the hypotheis must be changed into:\n",
    "    \n",
    "<br> H0 : Pnew - Pold <= 0\n",
    "H1: Pnew - Pold > 0 <BR>\n",
    "     done"
   ]
  },
  {
   "cell_type": "markdown",
   "metadata": {},
   "source": [
    "<p style=\"color:green\"> <B> the Q: is, is the new page really better than the old one\n",
    "Hw do we know that: the average converted number, is there a differ in converted mean? how much is it significant?"
   ]
  },
  {
   "cell_type": "markdown",
   "metadata": {},
   "source": [
    "`2.` Assume under the null hypothesis, $p_{new}$ and $p_{old}$ both have \"true\" success rates equal to the **converted** success rate regardless of page - that is $p_{new}$ and $p_{old}$ are equal. Furthermore, assume they are equal to the **converted** rate in **ab_data.csv** regardless of the page. <br><br>\n",
    "\n",
    "Use a sample size for each page equal to the ones in **ab_data.csv**.  <br><br>\n",
    "\n",
    "Perform the sampling distribution for the difference in **converted** between the two pages over 10,000 iterations of calculating an estimate from the null.  <br><br>\n",
    "\n",
    "Use the cells below to provide the necessary parts of this simulation.  If this doesn't make complete sense right now, don't worry - you are going to work through the problems below to complete this problem.  You can use **Quiz 5** in the classroom to make sure you are on the right track.<br><br>"
   ]
  },
  {
   "cell_type": "markdown",
   "metadata": {},
   "source": [
    "we just need to focus on the folloing coulumns"
   ]
  },
  {
   "cell_type": "code",
   "execution_count": 90,
   "metadata": {},
   "outputs": [
    {
     "data": {
      "text/html": [
       "<div>\n",
       "<style scoped>\n",
       "    .dataframe tbody tr th:only-of-type {\n",
       "        vertical-align: middle;\n",
       "    }\n",
       "\n",
       "    .dataframe tbody tr th {\n",
       "        vertical-align: top;\n",
       "    }\n",
       "\n",
       "    .dataframe thead th {\n",
       "        text-align: right;\n",
       "    }\n",
       "</style>\n",
       "<table border=\"1\" class=\"dataframe\">\n",
       "  <thead>\n",
       "    <tr style=\"text-align: right;\">\n",
       "      <th></th>\n",
       "      <th>landing_page</th>\n",
       "    </tr>\n",
       "    <tr>\n",
       "      <th>converted</th>\n",
       "      <th></th>\n",
       "    </tr>\n",
       "  </thead>\n",
       "  <tbody>\n",
       "    <tr>\n",
       "      <td>0</td>\n",
       "      <td>old_page</td>\n",
       "    </tr>\n",
       "    <tr>\n",
       "      <td>0</td>\n",
       "      <td>old_page</td>\n",
       "    </tr>\n",
       "    <tr>\n",
       "      <td>1</td>\n",
       "      <td>old_page</td>\n",
       "    </tr>\n",
       "    <tr>\n",
       "      <td>0</td>\n",
       "      <td>old_page</td>\n",
       "    </tr>\n",
       "    <tr>\n",
       "      <td>0</td>\n",
       "      <td>old_page</td>\n",
       "    </tr>\n",
       "  </tbody>\n",
       "</table>\n",
       "</div>"
      ],
      "text/plain": [
       "          landing_page\n",
       "converted             \n",
       "0             old_page\n",
       "0             old_page\n",
       "1             old_page\n",
       "0             old_page\n",
       "0             old_page"
      ]
     },
     "execution_count": 90,
     "metadata": {},
     "output_type": "execute_result"
    }
   ],
   "source": [
    "df2.head()\n",
    "df3= pd.DataFrame(df2['landing_page'],df2['converted'] )\n",
    "df3.head()"
   ]
  },
  {
   "cell_type": "code",
   "execution_count": 91,
   "metadata": {},
   "outputs": [
    {
     "data": {
      "text/plain": [
       "(array([127785.,      0.,      0.,      0.,      0.,      0.,      0.,\n",
       "             0.,      0.,  17489.]),\n",
       " array([0. , 0.1, 0.2, 0.3, 0.4, 0.5, 0.6, 0.7, 0.8, 0.9, 1. ]),\n",
       " <a list of 10 Patch objects>)"
      ]
     },
     "execution_count": 91,
     "metadata": {},
     "output_type": "execute_result"
    },
    {
     "data": {
      "image/png": "[encoded data removed]",
      "text/plain": [
       "<Figure size 432x288 with 1 Axes>"
      ]
     },
     "metadata": {
      "needs_background": "light"
     },
     "output_type": "display_data"
    }
   ],
   "source": [
    "plt.hist(df2[df2['landing_page']=='old_page'].converted  , alpha=0.5,  label='old_page')\n"
   ]
  },
  {
   "cell_type": "code",
   "execution_count": 92,
   "metadata": {},
   "outputs": [
    {
     "data": {
      "text/plain": [
       "(array([128047.,      0.,      0.,      0.,      0.,      0.,      0.,\n",
       "             0.,      0.,  17264.]),\n",
       " array([0. , 0.1, 0.2, 0.3, 0.4, 0.5, 0.6, 0.7, 0.8, 0.9, 1. ]),\n",
       " <a list of 10 Patch objects>)"
      ]
     },
     "execution_count": 92,
     "metadata": {},
     "output_type": "execute_result"
    },
    {
     "data": {
      "image/png": "[encoded data removed]",
      "text/plain": [
       "<Figure size 432x288 with 1 Axes>"
      ]
     },
     "metadata": {
      "needs_background": "light"
     },
     "output_type": "display_data"
    }
   ],
   "source": [
    "plt.hist(df2[df2['landing_page']=='new_page'].converted, alpha=0.5, label='new_page')\n"
   ]
  },
  {
   "cell_type": "code",
   "execution_count": 93,
   "metadata": {},
   "outputs": [
    {
     "data": {
      "image/png": "[encoded data removed]",
      "text/plain": [
       "<Figure size 432x288 with 1 Axes>"
      ]
     },
     "metadata": {
      "needs_background": "light"
     },
     "output_type": "display_data"
    }
   ],
   "source": [
    "plt.hist(df2[df2['landing_page']=='new_page'].converted, alpha=0.5, label='new_page')\n",
    "plt.hist(df2[df2['landing_page']=='old_page'].converted  , alpha=0.5,  label='old_page')\n",
    "plt.legend(loc='upper right')\n",
    "plt.show() "
   ]
  },
  {
   "cell_type": "markdown",
   "metadata": {},
   "source": [
    "seems similer and no differ in the reak data."
   ]
  },
  {
   "cell_type": "markdown",
   "metadata": {},
   "source": [
    "a. What is the **convert rate** for $p_{new}$ under the null? "
   ]
  },
  {
   "cell_type": "code",
   "execution_count": 94,
   "metadata": {},
   "outputs": [
    {
     "name": "stderr",
     "output_type": "stream",
     "text": [
      "/home/ragia/anaconda3/lib/python3.7/site-packages/pandas/core/ops/__init__.py:1115: FutureWarning: elementwise comparison failed; returning scalar instead, but in the future will perform elementwise comparison\n",
      "  result = method(y)\n"
     ]
    },
    {
     "data": {
      "text/plain": [
       "0.0"
      ]
     },
     "execution_count": 94,
     "metadata": {},
     "output_type": "execute_result"
    }
   ],
   "source": [
    "convert_rate_new= df[ (df['converted'] ==1 ) &  df['landing_page'] == 'new_page' ].user_id.nunique() / df[df['converted'] ==1 ].user_id.nunique()  \n",
    "convert_rate_new"
   ]
  },
  {
   "cell_type": "code",
   "execution_count": 119,
   "metadata": {},
   "outputs": [
    {
     "data": {
      "text/plain": [
       "0.8811927520972259"
      ]
     },
     "execution_count": 119,
     "metadata": {},
     "output_type": "execute_result"
    }
   ],
   "source": [
    "np.mean( df2[ df2['landing_page'] == 'new_page' ].converted)"
   ]
  },
  {
   "cell_type": "markdown",
   "metadata": {},
   "source": [
    "b. What is the **convert rate** for $p_{old}$ under the null? <br><br>"
   ]
  },
  {
   "cell_type": "code",
   "execution_count": 120,
   "metadata": {},
   "outputs": [
    {
     "data": {
      "text/plain": [
       "0.0"
      ]
     },
     "execution_count": 120,
     "metadata": {},
     "output_type": "execute_result"
    }
   ],
   "source": [
    "convert_rate_old= df[ (df['converted'] ==1 ) &  df['landing_page'] == 'old_page' ].user_id.nunique() / df[df['converted'] ==1 ].user_id.nunique()  \n",
    "convert_rate_old"
   ]
  },
  {
   "cell_type": "code",
   "execution_count": 121,
   "metadata": {},
   "outputs": [
    {
     "data": {
      "text/plain": [
       "0.8796136954995388"
      ]
     },
     "execution_count": 121,
     "metadata": {},
     "output_type": "execute_result"
    }
   ],
   "source": [
    "np.mean( df2[ df2['landing_page'] == 'old_page' ].converted)"
   ]
  },
  {
   "cell_type": "markdown",
   "metadata": {},
   "source": [
    "c. What is $n_{new}$?"
   ]
  },
  {
   "cell_type": "code",
   "execution_count": 122,
   "metadata": {},
   "outputs": [
    {
     "data": {
      "text/plain": [
       "147239"
      ]
     },
     "execution_count": 122,
     "metadata": {},
     "output_type": "execute_result"
    }
   ],
   "source": [
    "df.query('landing_page == \"new_page\"').shape[0]"
   ]
  },
  {
   "cell_type": "markdown",
   "metadata": {},
   "source": [
    "d. What is $n_{old}$?"
   ]
  },
  {
   "cell_type": "code",
   "execution_count": 123,
   "metadata": {},
   "outputs": [
    {
     "data": {
      "text/plain": [
       "147239"
      ]
     },
     "execution_count": 123,
     "metadata": {},
     "output_type": "execute_result"
    }
   ],
   "source": [
    "df.query('landing_page == \"old_page\"').shape[0]"
   ]
  },
  {
   "cell_type": "markdown",
   "metadata": {},
   "source": [
    "The observed difference between the two groups"
   ]
  },
  {
   "cell_type": "code",
   "execution_count": 131,
   "metadata": {},
   "outputs": [
    {
     "data": {
      "text/plain": [
       "0.0015790565976870896"
      ]
     },
     "execution_count": 131,
     "metadata": {},
     "output_type": "execute_result"
    }
   ],
   "source": [
    "observed_difference =np.mean( df2[ df2['landing_page'] == 'new_page' ].converted) - np.mean( df2[ df2['landing_page'] == 'old_page' ].converted)  \n",
    "observed_difference"
   ]
  },
  {
   "cell_type": "markdown",
   "metadata": {},
   "source": [
    "e. Simulate $n_{new}$ transactions with a convert rate of $p_{new}$ under the null.  Store these $n_{new}$ 1's and 0's in **new_page_converted**."
   ]
  },
  {
   "cell_type": "code",
   "execution_count": 132,
   "metadata": {},
   "outputs": [
    {
     "data": {
      "text/plain": [
       "0.8807717915805803"
      ]
     },
     "execution_count": 132,
     "metadata": {},
     "output_type": "execute_result"
    }
   ],
   "source": [
    "size = df2.shape[0]\n",
    "sample=df2.sample(size, replace = True)\n",
    "new_mean =  sample.query('landing_page == \"new_page\"').converted.mean()\n",
    "new_mean"
   ]
  },
  {
   "cell_type": "markdown",
   "metadata": {},
   "source": [
    "f. Simulate $n_{old}$ transactions with a convert rate of $p_{old}$ under the null.  Store these $n_{old}$ 1's and 0's in **old_page_converted**."
   ]
  },
  {
   "cell_type": "code",
   "execution_count": 133,
   "metadata": {},
   "outputs": [
    {
     "data": {
      "text/plain": [
       "0.8803710196137973"
      ]
     },
     "execution_count": 133,
     "metadata": {},
     "output_type": "execute_result"
    }
   ],
   "source": [
    "old_mean =sample.query('landing_page == \"old_page\"').converted.mean()\n",
    "old_mean"
   ]
  },
  {
   "cell_type": "markdown",
   "metadata": {},
   "source": [
    "g. Find $p_{new}$ - $p_{old}$ for your simulated values from part (e) and (f)."
   ]
  },
  {
   "cell_type": "code",
   "execution_count": 134,
   "metadata": {},
   "outputs": [
    {
     "data": {
      "text/plain": [
       "0.00040077196678300897"
      ]
     },
     "execution_count": 134,
     "metadata": {},
     "output_type": "execute_result"
    }
   ],
   "source": [
    "new_mean-old_mean"
   ]
  },
  {
   "cell_type": "markdown",
   "metadata": {},
   "source": [
    "<p style=\"color:green\"> <B>  can't take decision depending on one sample we should simulate"
   ]
  },
  {
   "cell_type": "markdown",
   "metadata": {},
   "source": [
    "h. Simulate 10,000 $p_{new}$ - $p_{old}$ values using this same process similarly to the one you calculated in parts **a. through g.** above.  Store all 10,000 values in a numpy array called **p_diffs**."
   ]
  },
  {
   "cell_type": "code",
   "execution_count": 135,
   "metadata": {},
   "outputs": [],
   "source": [
    "diffs = []\n",
    "size = df2.shape[0]\n",
    "for _ in range(2500):\n",
    "    sample=df2.sample(size, replace = True)\n",
    "    old_mean =sample.query('landing_page == \"old_page\"').converted.mean()\n",
    "    new_mean =  sample.query('landing_page == \"new_page\"').converted.mean()\n",
    "    diffs.append(new_mean- old_mean)"
   ]
  },
  {
   "cell_type": "code",
   "execution_count": 136,
   "metadata": {},
   "outputs": [
    {
     "data": {
      "text/plain": [
       "[0.0022352939995311516,\n",
       " 0.0005906174211106618,\n",
       " 0.002850556333002574,\n",
       " 0.0004026530766000347,\n",
       " 0.0011144546214628681,\n",
       " 0.0030265787491772222,\n",
       " -0.000494483213089203,\n",
       " 0.000764776392893185,\n",
       " 0.0030064193135619366,\n",
       " 0.0021386737814359513,\n",
       " 0.001483909135442718,\n",
       " 0.002584807310103465,\n",
       " 0.0016155621089160022,\n",
       " 0.002340568898122619,\n",
       " 0.0021640324991797355,\n",
       " 0.0007727006391925473,\n",
       " 0.0014726448352152532,\n",
       " 0.00279713104271051,\n",
       " 0.0009498568244140637,\n",
       " 0.002971352547998296,\n",
       " 0.0018409493103762609,\n",
       " 0.002059754417091164,\n",
       " 0.0006747098107896532,\n",
       " 0.0026065572724444097,\n",
       " 0.0008165105726030131,\n",
       " 0.0026378158176829647,\n",
       " 0.0008248915305458793,\n",
       " 0.0013106514798831848,\n",
       " 0.0029255550420258514,\n",
       " 0.00010935499063136067,\n",
       " 0.0019645102134057124,\n",
       " 0.0013200423655125304,\n",
       " 0.0008366559516664873,\n",
       " 0.002436036651087048,\n",
       " 0.0013044052720831978,\n",
       " 0.0010130836141215571,\n",
       " 0.0033993276374620907,\n",
       " 0.001248436709476164,\n",
       " -0.0012699828920972323,\n",
       " 0.0013091400385423224,\n",
       " -0.00032447224146503473,\n",
       " 0.0023982227058118033,\n",
       " 0.0028812528890352906,\n",
       " 0.0010479291477940578,\n",
       " 0.001227012216485135,\n",
       " 0.0025830973892873033,\n",
       " 0.0013136208222371826,\n",
       " 0.0008152418745128731,\n",
       " -0.001654161819742539,\n",
       " -0.0002759687451062698,\n",
       " 0.002212484509117152,\n",
       " 0.0024719371719931216,\n",
       " 0.0019005070693313142,\n",
       " 0.0006328826821790923,\n",
       " 0.0003381701364827405,\n",
       " 0.001054925804131801,\n",
       " 0.0006855588788045042,\n",
       " 0.00045639678559616925,\n",
       " 0.0023184436856169555,\n",
       " -0.0007872651832707689,\n",
       " 0.0009341607102532068,\n",
       " 0.0034122033075383307,\n",
       " 0.0003070201441199849,\n",
       " 0.0007125081138634748,\n",
       " 0.0018138891480010688,\n",
       " 0.000448056886843351,\n",
       " 0.002398931599896459,\n",
       " 0.0025425668266234602,\n",
       " -9.400916530677428e-05,\n",
       " 0.0009411039047677594,\n",
       " 6.550718516429299e-05,\n",
       " 0.0017763792216834995,\n",
       " 0.0013483456105101155,\n",
       " 0.002943533892198036,\n",
       " 0.0002619963126502256,\n",
       " 0.002152672004946954,\n",
       " 0.0019525995817415431,\n",
       " 0.0028142526402445966,\n",
       " 0.0023435334168000477,\n",
       " 0.0012065823085525285,\n",
       " -0.00024320246230125075,\n",
       " 0.0035232680577647058,\n",
       " 0.002857936550216933,\n",
       " 0.0009206950199969199,\n",
       " 0.0013782831812952923,\n",
       " 0.0028476986809575777,\n",
       " 0.0010908819209122234,\n",
       " 0.00010620859090626489,\n",
       " 0.0015430539814039745,\n",
       " 0.0019755743907444723,\n",
       " 0.002682220296583271,\n",
       " 0.001310515176569993,\n",
       " 0.0008416356402242142,\n",
       " 0.0023748358879753795,\n",
       " 0.0015050330424741798,\n",
       " 4.1483374137119e-05,\n",
       " 0.0011494283873948463,\n",
       " 0.001711432947260616,\n",
       " 0.0013578569409081753,\n",
       " 0.0017107257640953666,\n",
       " 0.0005156988747470059,\n",
       " 0.002531727168078368,\n",
       " 0.001414339206998294,\n",
       " 0.0007461045352463724,\n",
       " 0.0017612188024078712,\n",
       " 0.0031356809359618376,\n",
       " 0.00082156184256299,\n",
       " 0.0012063058504794277,\n",
       " -0.0006035181873910167,\n",
       " 0.001537499755785099,\n",
       " 0.0023259809709048618,\n",
       " 0.00011427203806235742,\n",
       " -0.001547137303116397,\n",
       " -0.00024246339770839231,\n",
       " 0.002117174006868505,\n",
       " 0.00020634538970454308,\n",
       " -0.0008144946103185724,\n",
       " -0.00014606390819038584,\n",
       " 0.002493239871550035,\n",
       " 0.0022997991235210735,\n",
       " 0.00106554460939845,\n",
       " 0.001836416144876729,\n",
       " 0.0017431274899718519,\n",
       " 0.0012442359715356677,\n",
       " 0.002134867332612922,\n",
       " 0.002075445057784564,\n",
       " 0.0021864185650000145,\n",
       " 0.0020481147941312505,\n",
       " 0.001880197392361893,\n",
       " 0.0016052475562008395,\n",
       " 0.001724514797027621,\n",
       " 0.00203215889230679,\n",
       " 0.0019544002672681193,\n",
       " 0.0002635611490973133,\n",
       " 0.0012827069341881936,\n",
       " 0.0001752262289062001,\n",
       " -0.00018362200348942537,\n",
       " 0.0012733282495420717,\n",
       " 0.00096377542744297,\n",
       " 0.001043601516096393,\n",
       " 0.0015324097350640775,\n",
       " 0.0023863371395670407,\n",
       " 0.0007514301579552018,\n",
       " 0.0007532505390811517,\n",
       " 0.0010678193575391903,\n",
       " 0.0016766017376970144,\n",
       " 0.001717239260333736,\n",
       " 0.002592710825136013,\n",
       " 0.0007858979085993978,\n",
       " 0.0011022693435119857,\n",
       " -0.0007464162124788398,\n",
       " 0.003660833460649493,\n",
       " 0.0018887540263700098,\n",
       " -0.0006228672369507082,\n",
       " 0.0004851859654042556,\n",
       " 0.003337478774907754,\n",
       " 0.0007068581195315282,\n",
       " 0.0037203696574165113,\n",
       " 0.001143478866071579,\n",
       " 0.0027004141940655257,\n",
       " 5.22212321113491e-05,\n",
       " -0.0004457133013003878,\n",
       " 0.002817723919885551,\n",
       " -0.0003175140273034005,\n",
       " 0.0023246098281385352,\n",
       " 0.0012221284341930039,\n",
       " -0.0010323203387394564,\n",
       " 0.001559638947832731,\n",
       " 0.0011775768635932105,\n",
       " 0.001987380335328748,\n",
       " 0.0004568701020301047,\n",
       " 0.0019627034983088487,\n",
       " 0.0026249305983179205,\n",
       " 0.0033005415873185173,\n",
       " 0.0015306912552792706,\n",
       " 0.0027125993377719038,\n",
       " 0.002046543150050595,\n",
       " -0.0001808557761598939,\n",
       " 0.004352576244766593,\n",
       " 0.000774144744003169,\n",
       " 0.0037602054404330953,\n",
       " 0.003905921909372334,\n",
       " 0.0014121671667892688,\n",
       " -0.00019747923296309366,\n",
       " 0.001743055155165707,\n",
       " 0.002195925641431673,\n",
       " 0.001073359684481523,\n",
       " -0.0003200644674734576,\n",
       " 0.00018496075894425257,\n",
       " 0.0014505750099765846,\n",
       " 0.003717577732716304,\n",
       " 0.0029712411036278974,\n",
       " 0.0006121383187358553,\n",
       " 0.0034630799760888564,\n",
       " -0.0006773261583468138,\n",
       " 0.002505077402790712,\n",
       " 0.0027989315785535984,\n",
       " 0.00132654396478471,\n",
       " 0.0013000000131313527,\n",
       " 0.0029935082724158457,\n",
       " 0.001705586743590226,\n",
       " 0.0010837235693785807,\n",
       " 0.003399180697441273,\n",
       " 4.155945082884305e-05,\n",
       " 0.0005830530429544734,\n",
       " 0.0009145608202160149,\n",
       " -0.00018841986406403777,\n",
       " 0.0016618909912077262,\n",
       " 0.0022051282721767818,\n",
       " 0.0022116408606938087,\n",
       " -8.848180427856178e-05,\n",
       " 0.0006899046306242385,\n",
       " 0.003114770122491839,\n",
       " -6.601017215290828e-05,\n",
       " 0.002014429510174498,\n",
       " 0.0009195067094557308,\n",
       " 0.0019346601068828129,\n",
       " 0.0019193936393452349,\n",
       " 0.0007719498248713874,\n",
       " 0.001328202068830664,\n",
       " 0.0017047557700762273,\n",
       " 0.0019699834126616356,\n",
       " 0.00018141456652442933,\n",
       " -0.000352381556923298,\n",
       " 0.0012619405291142138,\n",
       " 0.002622406849609904,\n",
       " 0.0004174536149023078,\n",
       " 0.0015790668473629754,\n",
       " 0.0006054193656578333,\n",
       " 0.0027955978618395827,\n",
       " 0.0003520047317415731,\n",
       " 0.0004031092441707518,\n",
       " 0.002739904480493882,\n",
       " 0.0014295938930862784,\n",
       " 0.000956013743775519,\n",
       " 0.003369327145473444,\n",
       " 0.002988509814509044,\n",
       " 0.0012485626292212393,\n",
       " 0.0003491204256963476,\n",
       " 0.000814779334756488,\n",
       " 0.0026745741229269315,\n",
       " 0.0006930613573445932,\n",
       " 0.0016573965503206,\n",
       " 0.0024809502639002723,\n",
       " 0.00048403066059932165,\n",
       " 0.0003375366739731822,\n",
       " 0.00018890255257331123,\n",
       " 0.002015628762495947,\n",
       " -0.00019049280664906743,\n",
       " 0.0034137613464283456,\n",
       " 0.0014949085035618204,\n",
       " 0.0010299161329316853,\n",
       " -8.653155170224025e-05,\n",
       " 0.0019495213847315895,\n",
       " 0.000403425789118006,\n",
       " 0.0018802687282801767,\n",
       " 0.002271071221600196,\n",
       " 0.0005000233410782373,\n",
       " 0.0008660604004495642,\n",
       " 0.0037874267719902877,\n",
       " 0.0006668148106282468,\n",
       " 0.0018036287716127752,\n",
       " 0.0027555607460273412,\n",
       " 0.000261399568807108,\n",
       " 0.002442224383516489,\n",
       " -0.0005987633537494208,\n",
       " 0.0009529423290192129,\n",
       " 0.000984304607340003,\n",
       " 0.001680339268857467,\n",
       " 0.0031665263519712328,\n",
       " 0.0022707268444529527,\n",
       " 0.0011963288417511375,\n",
       " 0.001566800333198004,\n",
       " 0.003099357390270563,\n",
       " 0.0007793565070474129,\n",
       " 0.002496032046753749,\n",
       " 0.0022489519095233446,\n",
       " 0.0022678060965933833,\n",
       " 0.0005719342678562889,\n",
       " 0.0003653852238433286,\n",
       " 0.0022600253984856877,\n",
       " 0.000980306199254155,\n",
       " 0.0011834281633079646,\n",
       " 0.0011014290373670965,\n",
       " 0.005242518307270627,\n",
       " 0.00031151377463689567,\n",
       " 0.002482262408781799,\n",
       " 0.004615796914475223,\n",
       " 0.001073778962020544,\n",
       " -0.0006892421579693941,\n",
       " 0.003014656464191745,\n",
       " 0.0022111673557370093,\n",
       " 0.0015309925478418362,\n",
       " 0.0024252300912509517,\n",
       " 0.0017945030855477384,\n",
       " 0.0021688097723624455,\n",
       " 0.0026007197999611265,\n",
       " 0.00034979202734053416,\n",
       " -0.0004752700627959072,\n",
       " 0.0019832801474540807,\n",
       " 0.002500769229480948,\n",
       " 0.0015801019016525863,\n",
       " 0.002185682705157288,\n",
       " 0.0029086494838986843,\n",
       " 0.002841164965996401,\n",
       " 0.0016800750802311581,\n",
       " 0.0023357463223794284,\n",
       " 0.004010493206210941,\n",
       " 0.001099505982386284,\n",
       " 0.0029575749918652194,\n",
       " 0.003213589965331498,\n",
       " 0.0018755652861361938,\n",
       " 0.0012035946629214145,\n",
       " 0.0005808086136838142,\n",
       " 0.0015272188019599398,\n",
       " 0.0018367637351781596,\n",
       " 0.0010539468425468934,\n",
       " 0.0018755557449326998,\n",
       " -0.00024117355618336056,\n",
       " 0.0018984840279860915,\n",
       " 0.001017731584227688,\n",
       " 0.0009159352669705356,\n",
       " 0.001994927412971026,\n",
       " 0.0021691635709141233,\n",
       " 0.002438915542767761,\n",
       " 0.0019221513073375274,\n",
       " 0.002678499810938928,\n",
       " 0.0018860206803272828,\n",
       " 0.0004926106437530553,\n",
       " 0.001142243540498744,\n",
       " 0.001730555179030313,\n",
       " 0.0005820189522760533,\n",
       " 0.0012936161783529965,\n",
       " 0.0032833109932526305,\n",
       " 0.0040415751650266785,\n",
       " 0.003379897322042469,\n",
       " 0.0020414205842911315,\n",
       " 0.0022049912793460358,\n",
       " 0.001488882509346201,\n",
       " 0.003273906857435005,\n",
       " 0.0014043676505538505,\n",
       " 0.0018843117093572115,\n",
       " 0.0011437828364372349,\n",
       " 0.0026935454407720494,\n",
       " 0.0010690841709763976,\n",
       " 0.00046624837218045556,\n",
       " 0.0012733405431709643,\n",
       " 0.0028812385379104466,\n",
       " 0.0006953560439544315,\n",
       " 0.0017411742403885544,\n",
       " 0.0028325343366057965,\n",
       " 0.0017703223706067028,\n",
       " 0.001449818101872835,\n",
       " 0.0033577595175391384,\n",
       " 0.001252401477730758,\n",
       " 0.0025081669912484506,\n",
       " 0.003173516794106379,\n",
       " 0.0008793295295844716,\n",
       " 0.0017384416760923838,\n",
       " 0.0009187000318808813,\n",
       " 0.0018787740019106103,\n",
       " 0.0013538130496177914,\n",
       " 0.002270212857368281,\n",
       " 0.0007814119968726496,\n",
       " -6.234214706846153e-05,\n",
       " 0.0014119803347699689,\n",
       " 0.0011568931976894126,\n",
       " 0.002389440302307033,\n",
       " 0.0004720860184111997,\n",
       " 0.0030906196976686617,\n",
       " 0.0011933437309983308,\n",
       " 0.0016660291442355257,\n",
       " -0.0008735135489854606,\n",
       " 2.3129555519085798e-05,\n",
       " 0.0007171598835705728,\n",
       " 0.00036831272601556275,\n",
       " 0.0027056095764558252,\n",
       " 0.0020914400537918043,\n",
       " 0.001213863505711621,\n",
       " 0.002725537144846135,\n",
       " -0.0001398069788339784,\n",
       " 0.001130737100014767,\n",
       " 0.002380462955069551,\n",
       " 0.0009453645229287044,\n",
       " 0.0031546271757684208,\n",
       " 3.569884891563291e-05,\n",
       " 0.001478326515682693,\n",
       " 0.0010883200714099095,\n",
       " 5.401872543031594e-05,\n",
       " 0.0011412927248651838,\n",
       " 0.0015355207115805847,\n",
       " 0.0006578700475818877,\n",
       " 0.002122371820514779,\n",
       " 0.0016375139617897938,\n",
       " 0.0029339960109184826,\n",
       " 0.0020591906877198696,\n",
       " 0.0009903022660021632,\n",
       " 0.001724461524931331,\n",
       " 0.001596061335543908,\n",
       " 0.001634527341593195,\n",
       " 0.0009107234446980028,\n",
       " 0.00023739686970269958,\n",
       " -0.0005479451328003204,\n",
       " 0.003677487566097204,\n",
       " 0.0021344771992009015,\n",
       " 0.0009746726133071926,\n",
       " -0.0005331347031224398,\n",
       " 0.0011706038916080574,\n",
       " 0.003646845144340216,\n",
       " 0.00035015092653478685,\n",
       " 0.004287459803380855,\n",
       " 0.0018885127335096508,\n",
       " 0.0033019838447758687,\n",
       " 0.0027288808582552893,\n",
       " 0.002898218492850213,\n",
       " 0.0013831435101745448,\n",
       " 0.002049630776892797,\n",
       " 0.0005618498335159261,\n",
       " 0.00020405629886366405,\n",
       " 0.00143293950284884,\n",
       " 0.0008143680579822954,\n",
       " 0.0027056536342715543,\n",
       " 0.00017999096248066948,\n",
       " 0.0010694629135957756,\n",
       " 0.0012748593796177987,\n",
       " 0.00022457850338242213,\n",
       " 8.350896642772554e-05,\n",
       " 0.001688589304574717,\n",
       " 0.00032500655246847643,\n",
       " 0.001780180566140599,\n",
       " 0.0025049219426898084,\n",
       " -0.0012670180559362088,\n",
       " 0.0001484375056897136,\n",
       " 0.001137892076058411,\n",
       " 0.0014934117646715483,\n",
       " 0.0017609129994168304,\n",
       " -0.0011248885011968524,\n",
       " 0.0008103438031096255,\n",
       " 0.0013299043540038191,\n",
       " 0.0019287534502299142,\n",
       " 0.0014460584245767905,\n",
       " 0.0008021439696073163,\n",
       " 0.0016731175437653123,\n",
       " 0.001227747915495514,\n",
       " 0.0011414293635607642,\n",
       " 0.0024018059727793917,\n",
       " 0.00013029426040900294,\n",
       " 0.0010440003510605589,\n",
       " 0.0040611117423875465,\n",
       " 0.0013289451182619816,\n",
       " 0.0017112388388428323,\n",
       " 9.304569057744239e-05,\n",
       " 8.61850478225401e-05,\n",
       " 0.0007918035961566039,\n",
       " 0.0005117197087981529,\n",
       " -0.0008151841690824391,\n",
       " 0.003553952764220658,\n",
       " 0.00177616763990196,\n",
       " 0.002272214227393876,\n",
       " -0.0005426172007036989,\n",
       " 0.0010153211861324563,\n",
       " 0.002359919731511284,\n",
       " 0.002227806173885738,\n",
       " 0.0010342561553121632,\n",
       " 0.0025011123863551976,\n",
       " 0.00013947800504299224,\n",
       " 0.0009779219291644603,\n",
       " 0.002147998532815776,\n",
       " -0.0009705841764254819,\n",
       " 0.00176276560361055,\n",
       " 0.0032772798947462434,\n",
       " 0.0015495064075584652,\n",
       " 0.001026303820474861,\n",
       " 0.002562531405552737,\n",
       " 0.005120206308419917,\n",
       " 0.0028682859973148123,\n",
       " 0.0018501309847898106,\n",
       " 0.0024067106339944466,\n",
       " 0.0006149719962256217,\n",
       " 0.002411544281080591,\n",
       " 0.00233429361518378,\n",
       " 0.004273806550298964,\n",
       " 0.0017781427722888266,\n",
       " 0.002577355871714593,\n",
       " 0.003078442778030266,\n",
       " 0.0017410954284599045,\n",
       " 0.000441588131065096,\n",
       " 0.0033983448235782587,\n",
       " 0.0011288037285996921,\n",
       " 0.0009932200263356172,\n",
       " 0.0004120510701626223,\n",
       " 0.00041740223433528456,\n",
       " 0.00026365541580264384,\n",
       " 0.0013806393394037997,\n",
       " 0.0003639547384155506,\n",
       " 0.0006520971716015289,\n",
       " 0.000512606584920472,\n",
       " 0.0019726572739910964,\n",
       " -0.0005959685089576006,\n",
       " 0.0024993722392702145,\n",
       " -0.0006823018655330859,\n",
       " 0.0006515615417409526,\n",
       " 0.002117661089770073,\n",
       " 0.003883927961208955,\n",
       " 0.0018984535797217372,\n",
       " 0.0012681118264230573,\n",
       " 0.002513399053542309,\n",
       " 0.0023228464326258136,\n",
       " 0.0007752066953632397,\n",
       " 0.0019637329552930627,\n",
       " 0.00282683492000535,\n",
       " 0.0004964402202473073,\n",
       " 0.0038261012076659107,\n",
       " 0.0010217320560327314,\n",
       " 0.0013289890843528607,\n",
       " 0.0003436993110579323,\n",
       " 0.0037793288740383124,\n",
       " 0.0024039488968240486,\n",
       " -0.000338509611442106,\n",
       " 0.0015835752084081278,\n",
       " 0.001642449588531214,\n",
       " 0.0004193466220574482,\n",
       " -0.0014161224522811766,\n",
       " -0.0001462547870456632,\n",
       " 0.003628435382584394,\n",
       " -2.520994052312986e-05,\n",
       " 0.003455112722790088,\n",
       " 0.0002660112415192595,\n",
       " 0.0010523460923878014,\n",
       " 0.0009744587898208312,\n",
       " 0.001391198525398818,\n",
       " 0.0002485494434630864,\n",
       " 0.0031156896016237834,\n",
       " 0.002981343174024209,\n",
       " 0.002085603437490091,\n",
       " 0.0018845890166681034,\n",
       " 0.0017110558061619319,\n",
       " 0.0029502547023136927,\n",
       " 0.001672555172879009,\n",
       " 0.0005179447553248506,\n",
       " 0.001583028542434084,\n",
       " 0.0024131530278934665,\n",
       " 0.0029590998504251953,\n",
       " 0.0031328607947052056,\n",
       " 0.0007744977787433882,\n",
       " 0.0013294692293154275,\n",
       " 0.002285810700988433,\n",
       " 0.0012096809636097383,\n",
       " 0.001084843897110388,\n",
       " 0.0013504032171584024,\n",
       " 0.003884996622187442,\n",
       " 0.0038397314193014953,\n",
       " 0.0030372773872445746,\n",
       " 0.0019553600822413975,\n",
       " 0.0032501782012680502,\n",
       " 0.0016690416341337277,\n",
       " 0.0019472315312670796,\n",
       " 0.003512482045855747,\n",
       " 0.003388055228354725,\n",
       " 0.000900886030201109,\n",
       " -0.0008001521888295615,\n",
       " 0.0005910692682044028,\n",
       " 0.0011234899044517688,\n",
       " 0.003328762638949656,\n",
       " 0.0005496573891538015,\n",
       " 0.0006550714728879026,\n",
       " 0.004873649105524014,\n",
       " -0.0005057278551993116,\n",
       " -0.0015306233118597135,\n",
       " 0.0017053776603425108,\n",
       " 0.0025000935282661896,\n",
       " 0.001122697934272443,\n",
       " 0.002424630279443396,\n",
       " 0.0027840578472342337,\n",
       " 0.0010141433256538601,\n",
       " 0.001321390779261078,\n",
       " 0.0019797361307309913,\n",
       " 0.0008682927717194033,\n",
       " 0.003994901682378593,\n",
       " 0.002414087807605325,\n",
       " 0.0011371012818587323,\n",
       " 5.0953195313341304e-05,\n",
       " 0.0001830514350650292,\n",
       " 0.0025769699909337085,\n",
       " 0.0022962643781253567,\n",
       " 0.002065811847860588,\n",
       " 0.0015945162589213746,\n",
       " 0.0020207693144073113,\n",
       " 0.0018287777664312,\n",
       " 0.0013870246020917243,\n",
       " 0.0011966603376000196,\n",
       " 0.0023102637163781026,\n",
       " 0.0021739692507357633,\n",
       " 0.00203771367127048,\n",
       " 0.0022934394701717986,\n",
       " 0.002476458012338756,\n",
       " 0.0030536777712664165,\n",
       " 0.0035106407610724366,\n",
       " 0.0010316399167864532,\n",
       " 0.0027331074672763966,\n",
       " 0.0019515314234810344,\n",
       " 0.0015266869999654986,\n",
       " 0.0038938864896744807,\n",
       " 0.001581908926641784,\n",
       " 0.0017797793225216019,\n",
       " 0.001562193638675602,\n",
       " -0.0009036235926375147,\n",
       " 0.00023812624730579213,\n",
       " 0.0007078248813663368,\n",
       " 0.0005248057062868794,\n",
       " 0.002422638734602356,\n",
       " 0.00016808040876881147,\n",
       " 0.002708833955425982,\n",
       " 0.0006204939772477269,\n",
       " 0.0023238736927752024,\n",
       " 0.001584280307968755,\n",
       " 0.0014331101968886317,\n",
       " 0.0012306109233855,\n",
       " 0.001788099853376357,\n",
       " 0.001951815326882378,\n",
       " 0.0018144300970773797,\n",
       " 0.0016921927681969873,\n",
       " 0.00188869069371711,\n",
       " 0.0023014986422469352,\n",
       " 0.00032433717844981835,\n",
       " 0.0020772360516989608,\n",
       " 0.0017896440206733866,\n",
       " 0.0027232343950829296,\n",
       " 0.0021257659690785413,\n",
       " 0.0015581651127891671,\n",
       " 0.0007751389847695522,\n",
       " 0.00231734757766755,\n",
       " 0.0003988829703163166,\n",
       " 0.0021337179881447677,\n",
       " 0.002775616370028877,\n",
       " 0.0034934386418717933,\n",
       " 0.0014185995308013677,\n",
       " 0.0016419608819530085,\n",
       " 0.003375765384221907,\n",
       " 0.003604239818225552,\n",
       " 0.0007012743352516893,\n",
       " 0.0016405763781712768,\n",
       " 0.0002462166845954572,\n",
       " 0.001304952139465243,\n",
       " 0.0018428973875953547,\n",
       " 0.0023258477263183863,\n",
       " 0.001857265151673615,\n",
       " 0.002600474300155975,\n",
       " 0.0023489981457347486,\n",
       " 0.0029312116181305914,\n",
       " 0.0010249874679664206,\n",
       " 0.001608343681909985,\n",
       " 0.0005284695872888046,\n",
       " 0.002869261432653203,\n",
       " 0.0039775155429108144,\n",
       " 0.0013185719842562227,\n",
       " 0.0035189024195412255,\n",
       " 0.0024998607281926377,\n",
       " 0.0023195074629145385,\n",
       " 0.0036825759155908466,\n",
       " 0.0004958440183659985,\n",
       " 0.0011190646017928962,\n",
       " 0.002179312959451951,\n",
       " -0.0009286556216229203,\n",
       " 0.0020032382610343236,\n",
       " 0.001739752358331903,\n",
       " 0.0023370102066169185,\n",
       " 0.0007023660263403286,\n",
       " 0.0026765974842655194,\n",
       " 0.0038078109527726056,\n",
       " -0.0006794304989166111,\n",
       " 0.0025568337390039497,\n",
       " 0.0011452348370842858,\n",
       " 0.0005454107658743323,\n",
       " 0.002001469083725893,\n",
       " 0.003605095538925851,\n",
       " 0.003909889317313953,\n",
       " 0.0009522863766139311,\n",
       " 0.000962608460166714,\n",
       " 0.00029450401739483656,\n",
       " 0.0024804049118177796,\n",
       " 0.0005226822308365131,\n",
       " 0.0012335708860574668,\n",
       " 0.0006888865422122192,\n",
       " 6.60585607999975e-05,\n",
       " 0.0026353612917398017,\n",
       " 0.002029528096536559,\n",
       " 0.00199614375965651,\n",
       " 0.0014019754488786562,\n",
       " 0.0022326362140824285,\n",
       " 0.0029348806986398968,\n",
       " 0.0023468472640209015,\n",
       " 0.0010679811580824872,\n",
       " 0.000981034722111529,\n",
       " 0.0011056183959741173,\n",
       " 0.0036561580989453724,\n",
       " 0.002082767324501411,\n",
       " 0.002274207976837306,\n",
       " 0.004004270832158818,\n",
       " 0.0006221654814593247,\n",
       " 0.0012957271352549427,\n",
       " 0.0017188448289380265,\n",
       " 0.003290898081086291,\n",
       " 0.001577480415899335,\n",
       " 0.0024025187150545912,\n",
       " 0.0008483838508495101,\n",
       " 0.0003350909521672163,\n",
       " -0.0007657388092477957,\n",
       " 0.0012186782345805502,\n",
       " 0.002188285082485142,\n",
       " 0.002516336472281666,\n",
       " 0.00016274224874923693,\n",
       " 0.0009440756186742671,\n",
       " -0.00029126676708890464,\n",
       " -0.000474275883040165,\n",
       " -0.0001955903381394286,\n",
       " 0.0026610611317227084,\n",
       " 0.001412630313492369,\n",
       " 0.0022086431089651803,\n",
       " 0.001268548449911755,\n",
       " 0.0009328473669092396,\n",
       " 0.0016100610284255357,\n",
       " 0.002248064082206569,\n",
       " 0.002376923615444282,\n",
       " 0.0028719363407017084,\n",
       " 0.002693891508495194,\n",
       " 0.002026639565879673,\n",
       " 0.0008730574447480821,\n",
       " 0.0029665516595281938,\n",
       " 0.0029491587787427997,\n",
       " 0.0019110358435283636,\n",
       " 0.004021097003173435,\n",
       " 0.0014514224644048834,\n",
       " 0.0024395961788373777,\n",
       " 0.003693344028847023,\n",
       " 0.0008136292823225366,\n",
       " 0.0012186289131248529,\n",
       " 0.0014320388137378792,\n",
       " 0.0016251152992735607,\n",
       " 0.0027118046597561785,\n",
       " 0.0005866385320744127,\n",
       " 0.00225304823186101,\n",
       " 0.0019390211958305592,\n",
       " 0.0031443137022669765,\n",
       " 0.0028982247513446024,\n",
       " 0.0010100975532391088,\n",
       " 0.0023969197476875204,\n",
       " 0.003310437467737515,\n",
       " 0.0031698210782645786,\n",
       " 0.003074685446772696,\n",
       " 0.002140649886722912,\n",
       " 0.0021724100133672097,\n",
       " 4.32840467073925e-05,\n",
       " 0.0015212271299486213,\n",
       " 0.0014768315607026627,\n",
       " 0.0023775175483728983,\n",
       " 0.003711915475604677,\n",
       " 0.0038133444896792934,\n",
       " 0.0010424159488372498,\n",
       " 0.0015714636729131648,\n",
       " 0.0020462576386112152,\n",
       " 0.002294670666597276,\n",
       " 0.0025903607900553682,\n",
       " 0.0006489907980811171,\n",
       " 0.0009451653735828014,\n",
       " 4.412075005666427e-05,\n",
       " 0.0011143816392698014,\n",
       " 0.0005961735076348562,\n",
       " 0.001286161462733193,\n",
       " 0.0021995768218565637,\n",
       " -0.0011728877144304706,\n",
       " -0.0007135564366090863,\n",
       " 0.0016130813762255114,\n",
       " 0.0006159524902086266,\n",
       " -0.0016477410112599733,\n",
       " 0.004577323178716841,\n",
       " 0.0006092906825997391,\n",
       " 0.0023486427466614668,\n",
       " 0.0015196437003530683,\n",
       " -0.0004887097915238225,\n",
       " 0.001423010159524396,\n",
       " 0.002053494365839903,\n",
       " 0.0008895753284964281,\n",
       " 0.001963702208394813,\n",
       " 0.000568326608086922,\n",
       " 0.0015220105870218381,\n",
       " 0.002934400377501367,\n",
       " 0.0028329111525133843,\n",
       " 0.0019417564100642215,\n",
       " 0.0013103601092970818,\n",
       " 0.0036939352441804907,\n",
       " 0.0009515728472981877,\n",
       " 0.0003279587520270688,\n",
       " 0.002572071863220171,\n",
       " 0.0009720705601427015,\n",
       " 0.0005801845358665014,\n",
       " 0.003302244933724441,\n",
       " 0.0017890599244324568,\n",
       " 0.00011464868112431859,\n",
       " 0.0012223915329092616,\n",
       " 0.002391364271814189,\n",
       " 0.003121791465143242,\n",
       " 0.0012023432095564779,\n",
       " -0.00036133276411220994,\n",
       " 0.003177822687489007,\n",
       " 0.002067163199634958,\n",
       " 0.002444693337987247,\n",
       " 0.0023309075788752187,\n",
       " 0.002231018920308081,\n",
       " 0.002886645451568026,\n",
       " 0.0022343988233181067,\n",
       " 0.0027403854468798228,\n",
       " -0.0002028099463959876,\n",
       " 0.0021052357215661788,\n",
       " 0.001794672156550381,\n",
       " 0.001794006012407423,\n",
       " 0.0005192720493076841,\n",
       " -0.0010415590667437469,\n",
       " 0.0004786688567496311,\n",
       " 0.0020684389438636597,\n",
       " 0.00297933930346439,\n",
       " 7.817156620393284e-05,\n",
       " 0.0034675248134057313,\n",
       " 0.0018847437313558313,\n",
       " 0.0030724234878389822,\n",
       " 0.0022067103550499345,\n",
       " 0.001455905011055303,\n",
       " 0.0018286841085735084,\n",
       " -0.00028436268569254075,\n",
       " 0.0002133389211700365,\n",
       " 0.0006795973076030304,\n",
       " 0.0025840115394120122,\n",
       " 0.002546266672153852,\n",
       " 0.0004604833120520624,\n",
       " -6.334001437180437e-05,\n",
       " -0.0009129687328506275,\n",
       " 4.1739139340246645e-05,\n",
       " 0.000351790475292435,\n",
       " 0.0011353964263558503,\n",
       " 0.0016149699882807012,\n",
       " 0.0006556829318857815,\n",
       " 0.001573820663879677,\n",
       " 0.0005370700851042853,\n",
       " 0.0027325335618448854,\n",
       " 0.0010590100998401075,\n",
       " 6.75199854945907e-05,\n",
       " -0.0010384767049511634,\n",
       " 0.0015246881450889926,\n",
       " 0.0013188406295775446,\n",
       " 0.001483883597033997,\n",
       " 3.2787352579832785e-05,\n",
       " 0.002052407806338863,\n",
       " 0.0023008722577212426,\n",
       " 0.0008620399769677656,\n",
       " 0.0024636384800243993,\n",
       " 0.0017007111756666138,\n",
       " 0.002547985575430789,\n",
       " 0.000555847638784468,\n",
       " 0.001964044371194462,\n",
       " 0.0022825582463157357,\n",
       " 0.00045053821562046625,\n",
       " 0.0007644889567589574,\n",
       " 0.0005687444900392968,\n",
       " 0.0012150611843509962,\n",
       " 0.0010141609699820808,\n",
       " 0.001723268966349667,\n",
       " -0.0009833802055349006,\n",
       " 0.0033038213425951035,\n",
       " -0.0014975592411506922,\n",
       " 0.0029811698846740065,\n",
       " 0.0015125831628033382,\n",
       " 0.0017393861491764584,\n",
       " 0.0015668982030784262,\n",
       " 0.0014246004675600998,\n",
       " 0.00132956121065253,\n",
       " 0.0019118191838062293,\n",
       " 0.002074973071338193,\n",
       " 0.001049669307493284,\n",
       " 0.0025236392498417803,\n",
       " 0.0023193792653136702,\n",
       " 0.001297403065469438,\n",
       " 0.0009826481350856398,\n",
       " 0.0020634898189777484,\n",
       " 6.641696314690915e-05,\n",
       " 0.0037731232460710418,\n",
       " 0.0025485211005890074,\n",
       " 0.0021574770557581946,\n",
       " 0.0029800239045997268,\n",
       " 0.0016416168494708394,\n",
       " 0.00047684896139865707,\n",
       " 0.0019089463071131352,\n",
       " 0.002176925066321944,\n",
       " 0.00141477456728345,\n",
       " 0.001648872287521863,\n",
       " 0.002770727467655054,\n",
       " 0.003173212710345208,\n",
       " 0.0019569891371192805,\n",
       " 0.001704726514438204,\n",
       " 0.0028729184735858393,\n",
       " -0.0019292554125927008,\n",
       " 0.00027899824087584957,\n",
       " 0.0009633472210248684,\n",
       " 0.0014891268810135472,\n",
       " 0.002338716427425336,\n",
       " 0.0007524380885424176,\n",
       " 0.00038796192535950347,\n",
       " 0.0011476963745038482,\n",
       " -0.0004523453891184248,\n",
       " 0.0023458626859486076,\n",
       " 0.000526854767699092,\n",
       " 0.0035345876324271996,\n",
       " 0.0029468162713023327,\n",
       " 0.0018824770053693651,\n",
       " 0.002878450276056488,\n",
       " 0.0017380482840985145,\n",
       " 0.0047294481231515695,\n",
       " 0.000977432085665919,\n",
       " 0.0022179756397819883,\n",
       " 0.0003025307359235674,\n",
       " 0.0020821228171785666,\n",
       " -0.0007775063592048159,\n",
       " 0.0015868584272868969,\n",
       " 0.00043671643239850955,\n",
       " 0.0011203982818736025,\n",
       " 0.003121684882185116,\n",
       " 0.003836302780007128,\n",
       " 0.003199391421052744,\n",
       " 0.0013622499737563354,\n",
       " 0.002049579616088315,\n",
       " 0.002455339681650126,\n",
       " 0.0024521906537795513,\n",
       " -7.655726181754474e-05,\n",
       " 0.0009353226817789828,\n",
       " 0.0022591978593411444,\n",
       " 0.0022778134571157516,\n",
       " 0.0006743269980145072,\n",
       " 0.00290768795717411,\n",
       " 0.0007299718990366744,\n",
       " 0.0032611685601099394,\n",
       " 0.001129059913326791,\n",
       " 0.0029444684394098752,\n",
       " 0.0033374932070833196,\n",
       " -0.0006408220595651715,\n",
       " 0.0006200464323593557,\n",
       " 0.0016420274777926291,\n",
       " -3.990215352067672e-05,\n",
       " 0.001262196979396668,\n",
       " 0.0006756225829961382,\n",
       " 0.0025192989535903765,\n",
       " -0.00015774192666329068,\n",
       " 0.0027317183675908963,\n",
       " 0.0025630498018451853,\n",
       " 0.001914418771028048,\n",
       " 0.0022343931718394883,\n",
       " -7.119835148206022e-05,\n",
       " 0.0023988106444470247,\n",
       " -0.001792281938357121,\n",
       " -0.0021715871338333637,\n",
       " 0.00026492882784401317,\n",
       " 0.0016891740697085877,\n",
       " 0.002321478630982976,\n",
       " -0.002777165565156503,\n",
       " 0.002084296805863861,\n",
       " -0.0006266518028987811,\n",
       " 6.941993678566405e-05,\n",
       " 0.0022938424483052167,\n",
       " 0.00032331673526786453,\n",
       " 0.0027068098207801983,\n",
       " 0.0011404588045638153,\n",
       " 0.0013306087950611944,\n",
       " 0.0026403466570182887,\n",
       " -0.00045568295254005964,\n",
       " 0.0007114545521605953,\n",
       " -0.0009704667762695518,\n",
       " 0.0020758074114651803,\n",
       " 0.00013244548389557131,\n",
       " 0.0022269779454129335,\n",
       " -1.6626819941745197e-05,\n",
       " 0.0028001859193813594,\n",
       " 0.0011364825643526144,\n",
       " 0.0028534645811059134,\n",
       " 0.0022259696933194517,\n",
       " 0.0036959370938473013,\n",
       " 0.0012823511613440086,\n",
       " 0.003222482854582709,\n",
       " 0.0006469058677066597,\n",
       " 0.0009229713682206153,\n",
       " 0.0011265859700032577,\n",
       " 0.0032069110749156637,\n",
       " 0.002963157871101574,\n",
       " 0.001408264748038568,\n",
       " 0.001889597453759717,\n",
       " 0.0026098197919313115,\n",
       " 0.0025145741494602136,\n",
       " 0.00294536613914953,\n",
       " 0.0024570929617732107,\n",
       " 0.001509730348616345,\n",
       " 0.0013732964749028076,\n",
       " 0.001165810428185643,\n",
       " 0.0023475509000592254,\n",
       " ...]"
      ]
     },
     "execution_count": 136,
     "metadata": {},
     "output_type": "execute_result"
    }
   ],
   "source": [
    "diffs "
   ]
  },
  {
   "cell_type": "markdown",
   "metadata": {},
   "source": [
    "i. Plot a histogram of the **p_diffs**.  Does this plot look like what you expected?  Use the matching problem in the classroom to assure you fully understand what was computed here."
   ]
  },
  {
   "cell_type": "code",
   "execution_count": 137,
   "metadata": {},
   "outputs": [
    {
     "data": {
      "text/plain": [
       "(array([  5.,  36., 139., 417., 690., 651., 401., 125.,  31.,   5.]),\n",
       " array([-0.00277717, -0.00189792, -0.00101868, -0.00013943,  0.00073982,\n",
       "         0.00161906,  0.00249831,  0.00337755,  0.0042568 ,  0.00513604,\n",
       "         0.00601529]),\n",
       " <a list of 10 Patch objects>)"
      ]
     },
     "execution_count": 137,
     "metadata": {},
     "output_type": "execute_result"
    },
    {
     "data": {
      "image/png": "[encoded data removed]",
      "text/plain": [
       "<Figure size 432x288 with 1 Axes>"
      ]
     },
     "metadata": {
      "needs_background": "light"
     },
     "output_type": "display_data"
    }
   ],
   "source": [
    "diffs = np.asarray( diffs  )\n",
    "plt.hist(diffs)"
   ]
  },
  {
   "cell_type": "markdown",
   "metadata": {},
   "source": [
    "<p style=\"color:green\"> <B> the real difference mean is -0.0015 it seems very far a way on the left  tail from what we saw here but we should see its significant for that we will have a look on null distrubtuin an p value"
   ]
  },
  {
   "cell_type": "code",
   "execution_count": 138,
   "metadata": {},
   "outputs": [],
   "source": [
    "# simulate distribution under the null hypothesis\n",
    "null_vals = np.random.normal( 0, diffs.std(),diffs.size)"
   ]
  },
  {
   "cell_type": "code",
   "execution_count": 139,
   "metadata": {},
   "outputs": [
    {
     "data": {
      "text/plain": [
       "<matplotlib.lines.Line2D at 0x7fb272d20210>"
      ]
     },
     "execution_count": 139,
     "metadata": {},
     "output_type": "execute_result"
    },
    {
     "data": {
      "image/png": "[encoded data removed]",
      "text/plain": [
       "<Figure size 432x288 with 1 Axes>"
      ]
     },
     "metadata": {
      "needs_background": "light"
     },
     "output_type": "display_data"
    }
   ],
   "source": [
    "# plot null distribution\n",
    "plt.hist(null_vals  )\n",
    "# plot line for observed statistic\n",
    "plt.axvline( x=observed_difference,color='r')"
   ]
  },
  {
   "cell_type": "markdown",
   "metadata": {},
   "source": [
    "j. What proportion of the **p_diffs** are greater than the actual difference observed in **ab_data.csv**?"
   ]
  },
  {
   "cell_type": "code",
   "execution_count": 140,
   "metadata": {},
   "outputs": [
    {
     "data": {
      "text/plain": [
       "0.0996"
      ]
     },
     "execution_count": 140,
     "metadata": {},
     "output_type": "execute_result"
    }
   ],
   "source": [
    "# compute p value\n",
    "(null_vals>observed_difference).mean()"
   ]
  },
  {
   "cell_type": "markdown",
   "metadata": {},
   "source": [
    "k. In words, explain what you just computed in part **j.**  What is this value called in scientific studies?  What does this value mean in terms of whether or not there is a difference between the new and old pages?"
   ]
  },
  {
   "cell_type": "markdown",
   "metadata": {},
   "source": [
    "<p style=\"color:green\"> <B> **Put your answer here.**<Br>\n",
    "   p value is not statistically significant since its higher than .05. , evidence for the null hypothesis wish was the old page is better thatn the new one and its affected converted. \n",
    "    I guess this is the power of simulation to see how the data talks and matches, looking at the data would drag us to wrong descion. for that we accept the null hypotheisi and regect the alternate so the new page will do better job and we recommend moving to the new website."
   ]
  },
  {
   "cell_type": "markdown",
   "metadata": {},
   "source": [
    "l. We could also use a built-in to achieve similar results.  Though using the built-in might be easier to code, the above portions are a walkthrough of the ideas that are critical to correctly thinking about statistical significance. Fill in the below to calculate the number of conversions for each page, as well as the number of individuals who received each page. Let `n_old` and `n_new` refer the the number of rows associated with the old page and new pages, respectively."
   ]
  },
  {
   "cell_type": "code",
   "execution_count": 141,
   "metadata": {},
   "outputs": [
    {
     "data": {
      "text/html": [
       "<div>\n",
       "<style scoped>\n",
       "    .dataframe tbody tr th:only-of-type {\n",
       "        vertical-align: middle;\n",
       "    }\n",
       "\n",
       "    .dataframe tbody tr th {\n",
       "        vertical-align: top;\n",
       "    }\n",
       "\n",
       "    .dataframe thead th {\n",
       "        text-align: right;\n",
       "    }\n",
       "</style>\n",
       "<table border=\"1\" class=\"dataframe\">\n",
       "  <thead>\n",
       "    <tr style=\"text-align: right;\">\n",
       "      <th></th>\n",
       "      <th>user_id</th>\n",
       "      <th>converted</th>\n",
       "      <th>not_converted</th>\n",
       "    </tr>\n",
       "  </thead>\n",
       "  <tbody>\n",
       "    <tr>\n",
       "      <td>count</td>\n",
       "      <td>290585.000000</td>\n",
       "      <td>290585.000000</td>\n",
       "      <td>290585.000000</td>\n",
       "    </tr>\n",
       "    <tr>\n",
       "      <td>mean</td>\n",
       "      <td>788004.825246</td>\n",
       "      <td>0.880403</td>\n",
       "      <td>0.119597</td>\n",
       "    </tr>\n",
       "    <tr>\n",
       "      <td>std</td>\n",
       "      <td>91224.582639</td>\n",
       "      <td>0.324490</td>\n",
       "      <td>0.324490</td>\n",
       "    </tr>\n",
       "    <tr>\n",
       "      <td>min</td>\n",
       "      <td>630000.000000</td>\n",
       "      <td>0.000000</td>\n",
       "      <td>0.000000</td>\n",
       "    </tr>\n",
       "    <tr>\n",
       "      <td>25%</td>\n",
       "      <td>709035.000000</td>\n",
       "      <td>1.000000</td>\n",
       "      <td>0.000000</td>\n",
       "    </tr>\n",
       "    <tr>\n",
       "      <td>50%</td>\n",
       "      <td>787995.000000</td>\n",
       "      <td>1.000000</td>\n",
       "      <td>0.000000</td>\n",
       "    </tr>\n",
       "    <tr>\n",
       "      <td>75%</td>\n",
       "      <td>866956.000000</td>\n",
       "      <td>1.000000</td>\n",
       "      <td>0.000000</td>\n",
       "    </tr>\n",
       "    <tr>\n",
       "      <td>max</td>\n",
       "      <td>945999.000000</td>\n",
       "      <td>1.000000</td>\n",
       "      <td>1.000000</td>\n",
       "    </tr>\n",
       "  </tbody>\n",
       "</table>\n",
       "</div>"
      ],
      "text/plain": [
       "             user_id      converted  not_converted\n",
       "count  290585.000000  290585.000000  290585.000000\n",
       "mean   788004.825246       0.880403       0.119597\n",
       "std     91224.582639       0.324490       0.324490\n",
       "min    630000.000000       0.000000       0.000000\n",
       "25%    709035.000000       1.000000       0.000000\n",
       "50%    787995.000000       1.000000       0.000000\n",
       "75%    866956.000000       1.000000       0.000000\n",
       "max    945999.000000       1.000000       1.000000"
      ]
     },
     "execution_count": 141,
     "metadata": {},
     "output_type": "execute_result"
    }
   ],
   "source": [
    "df2.describe()"
   ]
  },
  {
   "cell_type": "code",
   "execution_count": 142,
   "metadata": {},
   "outputs": [],
   "source": [
    "df2[['converted','not_converted']]=pd.get_dummies(df['converted'])"
   ]
  },
  {
   "cell_type": "code",
   "execution_count": 143,
   "metadata": {},
   "outputs": [
    {
     "data": {
      "text/html": [
       "<div>\n",
       "<style scoped>\n",
       "    .dataframe tbody tr th:only-of-type {\n",
       "        vertical-align: middle;\n",
       "    }\n",
       "\n",
       "    .dataframe tbody tr th {\n",
       "        vertical-align: top;\n",
       "    }\n",
       "\n",
       "    .dataframe thead th {\n",
       "        text-align: right;\n",
       "    }\n",
       "</style>\n",
       "<table border=\"1\" class=\"dataframe\">\n",
       "  <thead>\n",
       "    <tr style=\"text-align: right;\">\n",
       "      <th></th>\n",
       "      <th>user_id</th>\n",
       "      <th>timestamp</th>\n",
       "      <th>group</th>\n",
       "      <th>landing_page</th>\n",
       "      <th>converted</th>\n",
       "      <th>not_converted</th>\n",
       "    </tr>\n",
       "  </thead>\n",
       "  <tbody>\n",
       "    <tr>\n",
       "      <td>0</td>\n",
       "      <td>851104</td>\n",
       "      <td>2017-01-21 22:11:48.556739</td>\n",
       "      <td>control</td>\n",
       "      <td>old_page</td>\n",
       "      <td>1</td>\n",
       "      <td>0</td>\n",
       "    </tr>\n",
       "    <tr>\n",
       "      <td>1</td>\n",
       "      <td>804228</td>\n",
       "      <td>2017-01-12 08:01:45.159739</td>\n",
       "      <td>control</td>\n",
       "      <td>old_page</td>\n",
       "      <td>1</td>\n",
       "      <td>0</td>\n",
       "    </tr>\n",
       "    <tr>\n",
       "      <td>4</td>\n",
       "      <td>864975</td>\n",
       "      <td>2017-01-21 01:52:26.210827</td>\n",
       "      <td>control</td>\n",
       "      <td>old_page</td>\n",
       "      <td>0</td>\n",
       "      <td>1</td>\n",
       "    </tr>\n",
       "    <tr>\n",
       "      <td>5</td>\n",
       "      <td>936923</td>\n",
       "      <td>2017-01-10 15:20:49.083499</td>\n",
       "      <td>control</td>\n",
       "      <td>old_page</td>\n",
       "      <td>1</td>\n",
       "      <td>0</td>\n",
       "    </tr>\n",
       "    <tr>\n",
       "      <td>7</td>\n",
       "      <td>719014</td>\n",
       "      <td>2017-01-17 01:48:29.539573</td>\n",
       "      <td>control</td>\n",
       "      <td>old_page</td>\n",
       "      <td>1</td>\n",
       "      <td>0</td>\n",
       "    </tr>\n",
       "  </tbody>\n",
       "</table>\n",
       "</div>"
      ],
      "text/plain": [
       "   user_id                   timestamp    group landing_page  converted  \\\n",
       "0   851104  2017-01-21 22:11:48.556739  control     old_page          1   \n",
       "1   804228  2017-01-12 08:01:45.159739  control     old_page          1   \n",
       "4   864975  2017-01-21 01:52:26.210827  control     old_page          0   \n",
       "5   936923  2017-01-10 15:20:49.083499  control     old_page          1   \n",
       "7   719014  2017-01-17 01:48:29.539573  control     old_page          1   \n",
       "\n",
       "   not_converted  \n",
       "0              0  \n",
       "1              0  \n",
       "4              1  \n",
       "5              0  \n",
       "7              0  "
      ]
     },
     "execution_count": 143,
     "metadata": {},
     "output_type": "execute_result"
    }
   ],
   "source": [
    "df2.head()"
   ]
  },
  {
   "cell_type": "code",
   "execution_count": 144,
   "metadata": {},
   "outputs": [
    {
     "data": {
      "text/plain": [
       "127785"
      ]
     },
     "execution_count": 144,
     "metadata": {},
     "output_type": "execute_result"
    }
   ],
   "source": [
    "convert_oldtable = df2[(df2['group'] =='control' ) &  df2['converted'] ==1 ]\n",
    "convert_oldtable.shape[0] \n"
   ]
  },
  {
   "cell_type": "code",
   "execution_count": 145,
   "metadata": {},
   "outputs": [
    {
     "data": {
      "text/plain": [
       "(128047, 6)"
      ]
     },
     "execution_count": 145,
     "metadata": {},
     "output_type": "execute_result"
    }
   ],
   "source": [
    "convert_newtable = df2[(df2['group'] =='treatment' ) &  df2['converted'] ==1 ]\n",
    "convert_newtable.shape  "
   ]
  },
  {
   "cell_type": "code",
   "execution_count": 146,
   "metadata": {},
   "outputs": [
    {
     "data": {
      "text/plain": [
       "(145274, 6)"
      ]
     },
     "execution_count": 146,
     "metadata": {},
     "output_type": "execute_result"
    }
   ],
   "source": [
    "controlgroup = df2[(df2['group'] =='control' )]\n",
    "controlgroup.shape"
   ]
  },
  {
   "cell_type": "code",
   "execution_count": 147,
   "metadata": {},
   "outputs": [
    {
     "data": {
      "text/plain": [
       "(145311, 6)"
      ]
     },
     "execution_count": 147,
     "metadata": {},
     "output_type": "execute_result"
    }
   ],
   "source": [
    "treatmetngroup= df2[(df2['group'] =='treatment' )]\n",
    "treatmetngroup.shape"
   ]
  },
  {
   "cell_type": "code",
   "execution_count": 148,
   "metadata": {},
   "outputs": [
    {
     "data": {
      "text/plain": [
       "(17489, 17264)"
      ]
     },
     "execution_count": 148,
     "metadata": {},
     "output_type": "execute_result"
    }
   ],
   "source": [
    "import statsmodels.api as sm\n",
    "\n",
    "convert_old = convert_oldtable.shape[0] \n",
    "convert_new = convert_newtable.shape[0]\n",
    "n_old = convert_old- controlgroup.shape[0]\n",
    "n_new = convert_new - treatmetngroup.shape[0]\n",
    "abs(n_old) , abs(n_new)"
   ]
  },
  {
   "cell_type": "markdown",
   "metadata": {},
   "source": [
    "m. Now use `stats.proportions_ztest` to compute your test statistic and p-value.  [Here](http://knowledgetack.com/python/statsmodels/proportions_ztest/) is a helpful link on using the built in."
   ]
  },
  {
   "cell_type": "code",
   "execution_count": 149,
   "metadata": {},
   "outputs": [
    {
     "data": {
      "text/plain": [
       "(-1.3116350128538101, 0.9051783432470659)"
      ]
     },
     "execution_count": 149,
     "metadata": {},
     "output_type": "execute_result"
    }
   ],
   "source": [
    "z_score, p_value = sm.stats.proportions_ztest([convert_new, convert_old], [n_new, n_old], alternative = 'larger')\n",
    "z_score, p_value"
   ]
  },
  {
   "cell_type": "markdown",
   "metadata": {},
   "source": [
    "n. What do the z-score and p-value you computed in the previous question mean for the conversion rates of the old and new pages?  Do they agree with the findings in parts **j.** and **k.**?"
   ]
  },
  {
   "cell_type": "markdown",
   "metadata": {},
   "source": [
    "**Put your answer here.**\n",
    "p value is very large so no stistical sifnifcant thus we favour the null hypothesis in favour of the alternate"
   ]
  },
  {
   "cell_type": "markdown",
   "metadata": {},
   "source": [
    "<a id='regression'></a>\n",
    "### Part III - A regression approach\n",
    "\n",
    "`1.` In this final part, you will see that the result you acheived in the previous A/B test can also be acheived by performing regression.<br><br>\n",
    "\n",
    "a. Since each row is either a conversion or no conversion, what type of regression should you be performing in this case?"
   ]
  },
  {
   "cell_type": "markdown",
   "metadata": {},
   "source": [
    "logesitic , since its betweeen two values 0 and 1"
   ]
  },
  {
   "cell_type": "markdown",
   "metadata": {},
   "source": [
    "b. The goal is to use **statsmodels** to fit the regression model you specified in part **a.** to see if there is a significant difference in conversion based on which page a customer receives.  However, you first need to create a column for the intercept, and create a dummy variable column for which page each user received.  Add an **intercept** column, as well as an **ab_page** column, which is 1 when an individual receives the **treatment** and 0 if **control**."
   ]
  },
  {
   "cell_type": "code",
   "execution_count": 154,
   "metadata": {},
   "outputs": [],
   "source": [
    "import statsmodels.api as sm"
   ]
  },
  {
   "cell_type": "code",
   "execution_count": 155,
   "metadata": {},
   "outputs": [],
   "source": [
    "df2['intersept']=1\n"
   ]
  },
  {
   "cell_type": "code",
   "execution_count": 156,
   "metadata": {},
   "outputs": [
    {
     "data": {
      "text/html": [
       "<div>\n",
       "<style scoped>\n",
       "    .dataframe tbody tr th:only-of-type {\n",
       "        vertical-align: middle;\n",
       "    }\n",
       "\n",
       "    .dataframe tbody tr th {\n",
       "        vertical-align: top;\n",
       "    }\n",
       "\n",
       "    .dataframe thead th {\n",
       "        text-align: right;\n",
       "    }\n",
       "</style>\n",
       "<table border=\"1\" class=\"dataframe\">\n",
       "  <thead>\n",
       "    <tr style=\"text-align: right;\">\n",
       "      <th></th>\n",
       "      <th>user_id</th>\n",
       "      <th>timestamp</th>\n",
       "      <th>group</th>\n",
       "      <th>landing_page</th>\n",
       "      <th>converted</th>\n",
       "      <th>not_converted</th>\n",
       "      <th>intersept</th>\n",
       "    </tr>\n",
       "  </thead>\n",
       "  <tbody>\n",
       "    <tr>\n",
       "      <td>0</td>\n",
       "      <td>851104</td>\n",
       "      <td>2017-01-21 22:11:48.556739</td>\n",
       "      <td>control</td>\n",
       "      <td>old_page</td>\n",
       "      <td>1</td>\n",
       "      <td>0</td>\n",
       "      <td>1</td>\n",
       "    </tr>\n",
       "    <tr>\n",
       "      <td>1</td>\n",
       "      <td>804228</td>\n",
       "      <td>2017-01-12 08:01:45.159739</td>\n",
       "      <td>control</td>\n",
       "      <td>old_page</td>\n",
       "      <td>1</td>\n",
       "      <td>0</td>\n",
       "      <td>1</td>\n",
       "    </tr>\n",
       "    <tr>\n",
       "      <td>4</td>\n",
       "      <td>864975</td>\n",
       "      <td>2017-01-21 01:52:26.210827</td>\n",
       "      <td>control</td>\n",
       "      <td>old_page</td>\n",
       "      <td>0</td>\n",
       "      <td>1</td>\n",
       "      <td>1</td>\n",
       "    </tr>\n",
       "    <tr>\n",
       "      <td>5</td>\n",
       "      <td>936923</td>\n",
       "      <td>2017-01-10 15:20:49.083499</td>\n",
       "      <td>control</td>\n",
       "      <td>old_page</td>\n",
       "      <td>1</td>\n",
       "      <td>0</td>\n",
       "      <td>1</td>\n",
       "    </tr>\n",
       "    <tr>\n",
       "      <td>7</td>\n",
       "      <td>719014</td>\n",
       "      <td>2017-01-17 01:48:29.539573</td>\n",
       "      <td>control</td>\n",
       "      <td>old_page</td>\n",
       "      <td>1</td>\n",
       "      <td>0</td>\n",
       "      <td>1</td>\n",
       "    </tr>\n",
       "  </tbody>\n",
       "</table>\n",
       "</div>"
      ],
      "text/plain": [
       "   user_id                   timestamp    group landing_page  converted  \\\n",
       "0   851104  2017-01-21 22:11:48.556739  control     old_page          1   \n",
       "1   804228  2017-01-12 08:01:45.159739  control     old_page          1   \n",
       "4   864975  2017-01-21 01:52:26.210827  control     old_page          0   \n",
       "5   936923  2017-01-10 15:20:49.083499  control     old_page          1   \n",
       "7   719014  2017-01-17 01:48:29.539573  control     old_page          1   \n",
       "\n",
       "   not_converted  intersept  \n",
       "0              0          1  \n",
       "1              0          1  \n",
       "4              1          1  \n",
       "5              0          1  \n",
       "7              0          1  "
      ]
     },
     "execution_count": 156,
     "metadata": {},
     "output_type": "execute_result"
    }
   ],
   "source": [
    "df2.head()"
   ]
  },
  {
   "cell_type": "code",
   "execution_count": 158,
   "metadata": {},
   "outputs": [],
   "source": [
    "df2[[ 'control','treatment']]=pd.get_dummies(df['landing_page'])\n",
    " "
   ]
  },
  {
   "cell_type": "code",
   "execution_count": 162,
   "metadata": {},
   "outputs": [
    {
     "data": {
      "text/html": [
       "<div>\n",
       "<style scoped>\n",
       "    .dataframe tbody tr th:only-of-type {\n",
       "        vertical-align: middle;\n",
       "    }\n",
       "\n",
       "    .dataframe tbody tr th {\n",
       "        vertical-align: top;\n",
       "    }\n",
       "\n",
       "    .dataframe thead th {\n",
       "        text-align: right;\n",
       "    }\n",
       "</style>\n",
       "<table border=\"1\" class=\"dataframe\">\n",
       "  <thead>\n",
       "    <tr style=\"text-align: right;\">\n",
       "      <th></th>\n",
       "      <th>user_id</th>\n",
       "      <th>timestamp</th>\n",
       "      <th>group</th>\n",
       "      <th>landing_page</th>\n",
       "      <th>converted</th>\n",
       "      <th>not_converted</th>\n",
       "      <th>intersept</th>\n",
       "      <th>treatment</th>\n",
       "      <th>control</th>\n",
       "      <th>ab_page</th>\n",
       "    </tr>\n",
       "  </thead>\n",
       "  <tbody>\n",
       "    <tr>\n",
       "      <td>294462</td>\n",
       "      <td>677163</td>\n",
       "      <td>2017-01-03 19:41:51.902148</td>\n",
       "      <td>treatment</td>\n",
       "      <td>new_page</td>\n",
       "      <td>1</td>\n",
       "      <td>0</td>\n",
       "      <td>1</td>\n",
       "      <td>0</td>\n",
       "      <td>1</td>\n",
       "      <td>1</td>\n",
       "    </tr>\n",
       "    <tr>\n",
       "      <td>294465</td>\n",
       "      <td>925675</td>\n",
       "      <td>2017-01-07 20:38:26.346410</td>\n",
       "      <td>treatment</td>\n",
       "      <td>new_page</td>\n",
       "      <td>1</td>\n",
       "      <td>0</td>\n",
       "      <td>1</td>\n",
       "      <td>0</td>\n",
       "      <td>1</td>\n",
       "      <td>1</td>\n",
       "    </tr>\n",
       "    <tr>\n",
       "      <td>294468</td>\n",
       "      <td>643562</td>\n",
       "      <td>2017-01-02 19:20:05.460595</td>\n",
       "      <td>treatment</td>\n",
       "      <td>new_page</td>\n",
       "      <td>1</td>\n",
       "      <td>0</td>\n",
       "      <td>1</td>\n",
       "      <td>0</td>\n",
       "      <td>1</td>\n",
       "      <td>1</td>\n",
       "    </tr>\n",
       "    <tr>\n",
       "      <td>294472</td>\n",
       "      <td>822004</td>\n",
       "      <td>2017-01-04 03:36:46.071379</td>\n",
       "      <td>treatment</td>\n",
       "      <td>new_page</td>\n",
       "      <td>1</td>\n",
       "      <td>0</td>\n",
       "      <td>1</td>\n",
       "      <td>0</td>\n",
       "      <td>1</td>\n",
       "      <td>1</td>\n",
       "    </tr>\n",
       "    <tr>\n",
       "      <td>294477</td>\n",
       "      <td>715931</td>\n",
       "      <td>2017-01-16 12:40:24.467417</td>\n",
       "      <td>treatment</td>\n",
       "      <td>new_page</td>\n",
       "      <td>1</td>\n",
       "      <td>0</td>\n",
       "      <td>1</td>\n",
       "      <td>0</td>\n",
       "      <td>1</td>\n",
       "      <td>1</td>\n",
       "    </tr>\n",
       "  </tbody>\n",
       "</table>\n",
       "</div>"
      ],
      "text/plain": [
       "        user_id                   timestamp      group landing_page  \\\n",
       "294462   677163  2017-01-03 19:41:51.902148  treatment     new_page   \n",
       "294465   925675  2017-01-07 20:38:26.346410  treatment     new_page   \n",
       "294468   643562  2017-01-02 19:20:05.460595  treatment     new_page   \n",
       "294472   822004  2017-01-04 03:36:46.071379  treatment     new_page   \n",
       "294477   715931  2017-01-16 12:40:24.467417  treatment     new_page   \n",
       "\n",
       "        converted  not_converted  intersept  treatment  control  ab_page  \n",
       "294462          1              0          1          0        1        1  \n",
       "294465          1              0          1          0        1        1  \n",
       "294468          1              0          1          0        1        1  \n",
       "294472          1              0          1          0        1        1  \n",
       "294477          1              0          1          0        1        1  "
      ]
     },
     "execution_count": 162,
     "metadata": {},
     "output_type": "execute_result"
    }
   ],
   "source": [
    "df2.tail() "
   ]
  },
  {
   "cell_type": "code",
   "execution_count": 163,
   "metadata": {},
   "outputs": [],
   "source": [
    "df2['ab_page']=df2['control']"
   ]
  },
  {
   "cell_type": "code",
   "execution_count": 165,
   "metadata": {},
   "outputs": [
    {
     "data": {
      "text/html": [
       "<div>\n",
       "<style scoped>\n",
       "    .dataframe tbody tr th:only-of-type {\n",
       "        vertical-align: middle;\n",
       "    }\n",
       "\n",
       "    .dataframe tbody tr th {\n",
       "        vertical-align: top;\n",
       "    }\n",
       "\n",
       "    .dataframe thead th {\n",
       "        text-align: right;\n",
       "    }\n",
       "</style>\n",
       "<table border=\"1\" class=\"dataframe\">\n",
       "  <thead>\n",
       "    <tr style=\"text-align: right;\">\n",
       "      <th></th>\n",
       "      <th>user_id</th>\n",
       "      <th>timestamp</th>\n",
       "      <th>group</th>\n",
       "      <th>landing_page</th>\n",
       "      <th>converted</th>\n",
       "      <th>not_converted</th>\n",
       "      <th>intersept</th>\n",
       "      <th>treatment</th>\n",
       "      <th>control</th>\n",
       "      <th>ab_page</th>\n",
       "    </tr>\n",
       "  </thead>\n",
       "  <tbody>\n",
       "    <tr>\n",
       "      <td>0</td>\n",
       "      <td>851104</td>\n",
       "      <td>2017-01-21 22:11:48.556739</td>\n",
       "      <td>control</td>\n",
       "      <td>old_page</td>\n",
       "      <td>1</td>\n",
       "      <td>0</td>\n",
       "      <td>1</td>\n",
       "      <td>1</td>\n",
       "      <td>0</td>\n",
       "      <td>0</td>\n",
       "    </tr>\n",
       "    <tr>\n",
       "      <td>1</td>\n",
       "      <td>804228</td>\n",
       "      <td>2017-01-12 08:01:45.159739</td>\n",
       "      <td>control</td>\n",
       "      <td>old_page</td>\n",
       "      <td>1</td>\n",
       "      <td>0</td>\n",
       "      <td>1</td>\n",
       "      <td>1</td>\n",
       "      <td>0</td>\n",
       "      <td>0</td>\n",
       "    </tr>\n",
       "    <tr>\n",
       "      <td>4</td>\n",
       "      <td>864975</td>\n",
       "      <td>2017-01-21 01:52:26.210827</td>\n",
       "      <td>control</td>\n",
       "      <td>old_page</td>\n",
       "      <td>0</td>\n",
       "      <td>1</td>\n",
       "      <td>1</td>\n",
       "      <td>1</td>\n",
       "      <td>0</td>\n",
       "      <td>0</td>\n",
       "    </tr>\n",
       "    <tr>\n",
       "      <td>5</td>\n",
       "      <td>936923</td>\n",
       "      <td>2017-01-10 15:20:49.083499</td>\n",
       "      <td>control</td>\n",
       "      <td>old_page</td>\n",
       "      <td>1</td>\n",
       "      <td>0</td>\n",
       "      <td>1</td>\n",
       "      <td>1</td>\n",
       "      <td>0</td>\n",
       "      <td>0</td>\n",
       "    </tr>\n",
       "    <tr>\n",
       "      <td>7</td>\n",
       "      <td>719014</td>\n",
       "      <td>2017-01-17 01:48:29.539573</td>\n",
       "      <td>control</td>\n",
       "      <td>old_page</td>\n",
       "      <td>1</td>\n",
       "      <td>0</td>\n",
       "      <td>1</td>\n",
       "      <td>1</td>\n",
       "      <td>0</td>\n",
       "      <td>0</td>\n",
       "    </tr>\n",
       "  </tbody>\n",
       "</table>\n",
       "</div>"
      ],
      "text/plain": [
       "   user_id                   timestamp    group landing_page  converted  \\\n",
       "0   851104  2017-01-21 22:11:48.556739  control     old_page          1   \n",
       "1   804228  2017-01-12 08:01:45.159739  control     old_page          1   \n",
       "4   864975  2017-01-21 01:52:26.210827  control     old_page          0   \n",
       "5   936923  2017-01-10 15:20:49.083499  control     old_page          1   \n",
       "7   719014  2017-01-17 01:48:29.539573  control     old_page          1   \n",
       "\n",
       "   not_converted  intersept  treatment  control  ab_page  \n",
       "0              0          1          1        0        0  \n",
       "1              0          1          1        0        0  \n",
       "4              1          1          1        0        0  \n",
       "5              0          1          1        0        0  \n",
       "7              0          1          1        0        0  "
      ]
     },
     "execution_count": 165,
     "metadata": {},
     "output_type": "execute_result"
    }
   ],
   "source": [
    "df2.head()"
   ]
  },
  {
   "cell_type": "markdown",
   "metadata": {},
   "source": [
    "c. Use **statsmodels** to import your regression model.  Instantiate the model, and fit the model using the two columns you created in part **b.** to predict whether or not an individual converts."
   ]
  },
  {
   "cell_type": "code",
   "execution_count": 167,
   "metadata": {},
   "outputs": [
    {
     "name": "stdout",
     "output_type": "stream",
     "text": [
      "Optimization terminated successfully.\n",
      "         Current function value: 0.112141\n",
      "         Iterations 6\n"
     ]
    },
    {
     "name": "stderr",
     "output_type": "stream",
     "text": [
      "/home/ragia/anaconda3/lib/python3.7/site-packages/statsmodels/base/model.py:492: HessianInversionWarning: Inverting hessian failed, no bse or cov_params available\n",
      "  'available', HessianInversionWarning)\n",
      "/home/ragia/anaconda3/lib/python3.7/site-packages/statsmodels/base/model.py:492: HessianInversionWarning: Inverting hessian failed, no bse or cov_params available\n",
      "  'available', HessianInversionWarning)\n",
      "/home/ragia/anaconda3/lib/python3.7/site-packages/statsmodels/discrete/discrete_model.py:3390: RuntimeWarning: divide by zero encountered in double_scalars\n",
      "  return 1 - self.llf/self.llnull\n"
     ]
    },
    {
     "data": {
      "text/html": [
       "<table class=\"simpletable\">\n",
       "<tr>\n",
       "        <td>Model:</td>              <td>Logit</td>      <td>Pseudo R-squared:</td>     <td>inf</td>   \n",
       "</tr>\n",
       "<tr>\n",
       "  <td>Dependent Variable:</td>     <td>converted</td>          <td>AIC:</td>        <td>65177.0747</td>\n",
       "</tr>\n",
       "<tr>\n",
       "         <td>Date:</td>        <td>2020-09-30 09:20</td>       <td>BIC:</td>        <td>65198.2341</td>\n",
       "</tr>\n",
       "<tr>\n",
       "   <td>No. Observations:</td>       <td>290585</td>       <td>Log-Likelihood:</td>    <td>-32587.</td> \n",
       "</tr>\n",
       "<tr>\n",
       "       <td>Df Model:</td>              <td>1</td>            <td>LL-Null:</td>        <td>0.0000</td>  \n",
       "</tr>\n",
       "<tr>\n",
       "     <td>Df Residuals:</td>         <td>290583</td>        <td>LLR p-value:</td>      <td>1.0000</td>  \n",
       "</tr>\n",
       "<tr>\n",
       "      <td>Converged:</td>           <td>1.0000</td>           <td>Scale:</td>         <td>1.0000</td>  \n",
       "</tr>\n",
       "<tr>\n",
       "    <td>No. Iterations:</td>        <td>6.0000</td>              <td></td>               <td></td>     \n",
       "</tr>\n",
       "</table>\n",
       "<table class=\"simpletable\">\n",
       "<tr>\n",
       "      <td></td>       <th>Coef.</th> <th>Std.Err.</th>     <th>z</th>     <th>P>|z|</th> <th>[0.025</th>  <th>0.975]</th>\n",
       "</tr>\n",
       "<tr>\n",
       "  <th>intersept</th> <td>1.9888</td>  <td>0.0081</td>  <td>246.6690</td> <td>0.0000</td> <td>1.9730</td>  <td>2.0046</td>\n",
       "</tr>\n",
       "<tr>\n",
       "  <th>ab_page</th>   <td>0.0150</td>  <td>0.0114</td>   <td>1.3116</td>  <td>0.1897</td> <td>-0.0074</td> <td>0.0374</td>\n",
       "</tr>\n",
       "</table>"
      ],
      "text/plain": [
       "<class 'statsmodels.iolib.summary2.Summary'>\n",
       "\"\"\"\n",
       "                         Results: Logit\n",
       "=================================================================\n",
       "Model:              Logit            Pseudo R-squared: inf       \n",
       "Dependent Variable: converted        AIC:              65177.0747\n",
       "Date:               2020-09-30 09:20 BIC:              65198.2341\n",
       "No. Observations:   290585           Log-Likelihood:   -32587.   \n",
       "Df Model:           1                LL-Null:          0.0000    \n",
       "Df Residuals:       290583           LLR p-value:      1.0000    \n",
       "Converged:          1.0000           Scale:            1.0000    \n",
       "No. Iterations:     6.0000                                       \n",
       "------------------------------------------------------------------\n",
       "               Coef.   Std.Err.     z      P>|z|    [0.025  0.975]\n",
       "------------------------------------------------------------------\n",
       "intersept      1.9888    0.0081  246.6690  0.0000   1.9730  2.0046\n",
       "ab_page        0.0150    0.0114    1.3116  0.1897  -0.0074  0.0374\n",
       "=================================================================\n",
       "\n",
       "\"\"\""
      ]
     },
     "execution_count": 167,
     "metadata": {},
     "output_type": "execute_result"
    }
   ],
   "source": [
    "log_modl = sm.Logit(df2['converted'], df2[['intersept', 'ab_page']])\n",
    "results  =  log_modl.fit()\n",
    "results.summary2()"
   ]
  },
  {
   "cell_type": "code",
   "execution_count": null,
   "metadata": {},
   "outputs": [],
   "source": []
  },
  {
   "cell_type": "markdown",
   "metadata": {},
   "source": [
    "d. Provide the summary of your model below, and use it as necessary to answer the following questions."
   ]
  },
  {
   "cell_type": "markdown",
   "metadata": {
    "collapsed": true
   },
   "source": [
    "<p style=\"color:green\"> $R^2$ is inf  that means  the model is not good representaion for this case, and difucult to calc r squared ? !\n",
    "on the other hand P_value is less than .05, wish mean that the old page is better than the new one in conversion rate"
   ]
  },
  {
   "cell_type": "markdown",
   "metadata": {},
   "source": [
    "e. What is the p-value associated with **ab_page**? Why does it differ from the value you found in **Part II**?<br><br>  **Hint**: What are the null and alternative hypotheses associated with your regression model, and how do they compare to the null and alternative hypotheses in the **Part II**?"
   ]
  },
  {
   "cell_type": "markdown",
   "metadata": {},
   "source": [
    "<p style=\"color:green\">0.1897 <br>\n",
    "null new page better or equal, alternative not better than the old  <br>\n",
    "    in part 2 er dod not use the same features to make the model, the dummy variabels used only here regardeless other coulumns."
   ]
  },
  {
   "cell_type": "markdown",
   "metadata": {},
   "source": [
    "f. Now, you are considering other things that might influence whether or not an individual converts.  Discuss why it is a good idea to consider other factors to add into your regression model.  Are there any disadvantages to adding additional terms into your regression model?"
   ]
  },
  {
   "cell_type": "markdown",
   "metadata": {},
   "source": [
    " <p style=\"color:green\"> \n",
    "    user age <br>\n",
    " time used the page <br>\n",
    " user original country or culture maybe background too <br>\n",
    " all these could influence the user to convert or not, and should be added to the model, things that shouldnt be added might be number of user kids or his salary...but if the website is selling products for kids or other stuff that might  be included too since its will influence how stuff appear on the page and make the user buy or just leave it."
   ]
  },
  {
   "cell_type": "markdown",
   "metadata": {},
   "source": [
    "g. Now along with testing if the conversion rate changes for different pages, also add an effect based on which country a user lives. You will need to read in the **countries.csv** dataset and merge together your datasets on the approporiate rows.  [Here](https://pandas.pydata.org/pandas-docs/stable/generated/pandas.DataFrame.join.html) are the docs for joining tables. \n",
    "\n",
    "Does it appear that country had an impact on conversion?  Don't forget to create dummy variables for these country columns - **Hint: You will need two columns for the three dummy variables.** Provide the statistical output as well as a written response to answer this question."
   ]
  },
  {
   "cell_type": "code",
   "execution_count": 168,
   "metadata": {},
   "outputs": [],
   "source": [
    "countries_df = pd.read_csv('./countries.csv')"
   ]
  },
  {
   "cell_type": "code",
   "execution_count": 176,
   "metadata": {},
   "outputs": [
    {
     "name": "stdout",
     "output_type": "stream",
     "text": [
      "US    203619\n",
      "UK     72466\n",
      "CA     14499\n",
      "Name: country, dtype: int64\n"
     ]
    },
    {
     "data": {
      "text/html": [
       "<div>\n",
       "<style scoped>\n",
       "    .dataframe tbody tr th:only-of-type {\n",
       "        vertical-align: middle;\n",
       "    }\n",
       "\n",
       "    .dataframe tbody tr th {\n",
       "        vertical-align: top;\n",
       "    }\n",
       "\n",
       "    .dataframe thead th {\n",
       "        text-align: right;\n",
       "    }\n",
       "</style>\n",
       "<table border=\"1\" class=\"dataframe\">\n",
       "  <thead>\n",
       "    <tr style=\"text-align: right;\">\n",
       "      <th></th>\n",
       "      <th>user_id</th>\n",
       "      <th>country</th>\n",
       "    </tr>\n",
       "  </thead>\n",
       "  <tbody>\n",
       "    <tr>\n",
       "      <td>0</td>\n",
       "      <td>834778</td>\n",
       "      <td>UK</td>\n",
       "    </tr>\n",
       "    <tr>\n",
       "      <td>1</td>\n",
       "      <td>928468</td>\n",
       "      <td>US</td>\n",
       "    </tr>\n",
       "    <tr>\n",
       "      <td>2</td>\n",
       "      <td>822059</td>\n",
       "      <td>UK</td>\n",
       "    </tr>\n",
       "    <tr>\n",
       "      <td>3</td>\n",
       "      <td>711597</td>\n",
       "      <td>UK</td>\n",
       "    </tr>\n",
       "    <tr>\n",
       "      <td>4</td>\n",
       "      <td>710616</td>\n",
       "      <td>UK</td>\n",
       "    </tr>\n",
       "  </tbody>\n",
       "</table>\n",
       "</div>"
      ],
      "text/plain": [
       "   user_id country\n",
       "0   834778      UK\n",
       "1   928468      US\n",
       "2   822059      UK\n",
       "3   711597      UK\n",
       "4   710616      UK"
      ]
     },
     "execution_count": 176,
     "metadata": {},
     "output_type": "execute_result"
    }
   ],
   "source": [
    "print ( countries_df ['country'].value_counts())\n",
    "\n",
    "countries_df.head()"
   ]
  },
  {
   "cell_type": "code",
   "execution_count": 177,
   "metadata": {},
   "outputs": [
    {
     "data": {
      "text/plain": [
       "(290585, 10)"
      ]
     },
     "execution_count": 177,
     "metadata": {},
     "output_type": "execute_result"
    }
   ],
   "source": [
    "df2.shape"
   ]
  },
  {
   "cell_type": "code",
   "execution_count": 178,
   "metadata": {},
   "outputs": [
    {
     "data": {
      "text/plain": [
       "True    290584\n",
       "Name: user_id, dtype: int64"
      ]
     },
     "execution_count": 178,
     "metadata": {},
     "output_type": "execute_result"
    }
   ],
   "source": [
    "countries_df['user_id'].isin( df2['user_id']).value_counts()"
   ]
  },
  {
   "cell_type": "markdown",
   "metadata": {},
   "source": [
    "one of the users is not exist in the merge process."
   ]
  },
  {
   "cell_type": "code",
   "execution_count": 179,
   "metadata": {},
   "outputs": [
    {
     "data": {
      "text/plain": [
       "(290585, 11)"
      ]
     },
     "execution_count": 179,
     "metadata": {},
     "output_type": "execute_result"
    }
   ],
   "source": [
    "result = pd.merge(df2, countries_df[['user_id', 'country']],on='user_id', how='left')\n",
    "result.shape"
   ]
  },
  {
   "cell_type": "code",
   "execution_count": 180,
   "metadata": {},
   "outputs": [
    {
     "data": {
      "text/html": [
       "<div>\n",
       "<style scoped>\n",
       "    .dataframe tbody tr th:only-of-type {\n",
       "        vertical-align: middle;\n",
       "    }\n",
       "\n",
       "    .dataframe tbody tr th {\n",
       "        vertical-align: top;\n",
       "    }\n",
       "\n",
       "    .dataframe thead th {\n",
       "        text-align: right;\n",
       "    }\n",
       "</style>\n",
       "<table border=\"1\" class=\"dataframe\">\n",
       "  <thead>\n",
       "    <tr style=\"text-align: right;\">\n",
       "      <th></th>\n",
       "      <th>user_id</th>\n",
       "      <th>timestamp</th>\n",
       "      <th>group</th>\n",
       "      <th>landing_page</th>\n",
       "      <th>converted</th>\n",
       "      <th>not_converted</th>\n",
       "      <th>intersept</th>\n",
       "      <th>treatment</th>\n",
       "      <th>control</th>\n",
       "      <th>ab_page</th>\n",
       "      <th>country</th>\n",
       "    </tr>\n",
       "  </thead>\n",
       "  <tbody>\n",
       "    <tr>\n",
       "      <td>0</td>\n",
       "      <td>851104</td>\n",
       "      <td>2017-01-21 22:11:48.556739</td>\n",
       "      <td>control</td>\n",
       "      <td>old_page</td>\n",
       "      <td>1</td>\n",
       "      <td>0</td>\n",
       "      <td>1</td>\n",
       "      <td>1</td>\n",
       "      <td>0</td>\n",
       "      <td>0</td>\n",
       "      <td>US</td>\n",
       "    </tr>\n",
       "    <tr>\n",
       "      <td>1</td>\n",
       "      <td>804228</td>\n",
       "      <td>2017-01-12 08:01:45.159739</td>\n",
       "      <td>control</td>\n",
       "      <td>old_page</td>\n",
       "      <td>1</td>\n",
       "      <td>0</td>\n",
       "      <td>1</td>\n",
       "      <td>1</td>\n",
       "      <td>0</td>\n",
       "      <td>0</td>\n",
       "      <td>US</td>\n",
       "    </tr>\n",
       "    <tr>\n",
       "      <td>2</td>\n",
       "      <td>864975</td>\n",
       "      <td>2017-01-21 01:52:26.210827</td>\n",
       "      <td>control</td>\n",
       "      <td>old_page</td>\n",
       "      <td>0</td>\n",
       "      <td>1</td>\n",
       "      <td>1</td>\n",
       "      <td>1</td>\n",
       "      <td>0</td>\n",
       "      <td>0</td>\n",
       "      <td>US</td>\n",
       "    </tr>\n",
       "    <tr>\n",
       "      <td>3</td>\n",
       "      <td>936923</td>\n",
       "      <td>2017-01-10 15:20:49.083499</td>\n",
       "      <td>control</td>\n",
       "      <td>old_page</td>\n",
       "      <td>1</td>\n",
       "      <td>0</td>\n",
       "      <td>1</td>\n",
       "      <td>1</td>\n",
       "      <td>0</td>\n",
       "      <td>0</td>\n",
       "      <td>US</td>\n",
       "    </tr>\n",
       "    <tr>\n",
       "      <td>4</td>\n",
       "      <td>719014</td>\n",
       "      <td>2017-01-17 01:48:29.539573</td>\n",
       "      <td>control</td>\n",
       "      <td>old_page</td>\n",
       "      <td>1</td>\n",
       "      <td>0</td>\n",
       "      <td>1</td>\n",
       "      <td>1</td>\n",
       "      <td>0</td>\n",
       "      <td>0</td>\n",
       "      <td>US</td>\n",
       "    </tr>\n",
       "  </tbody>\n",
       "</table>\n",
       "</div>"
      ],
      "text/plain": [
       "   user_id                   timestamp    group landing_page  converted  \\\n",
       "0   851104  2017-01-21 22:11:48.556739  control     old_page          1   \n",
       "1   804228  2017-01-12 08:01:45.159739  control     old_page          1   \n",
       "2   864975  2017-01-21 01:52:26.210827  control     old_page          0   \n",
       "3   936923  2017-01-10 15:20:49.083499  control     old_page          1   \n",
       "4   719014  2017-01-17 01:48:29.539573  control     old_page          1   \n",
       "\n",
       "   not_converted  intersept  treatment  control  ab_page country  \n",
       "0              0          1          1        0        0      US  \n",
       "1              0          1          1        0        0      US  \n",
       "2              1          1          1        0        0      US  \n",
       "3              0          1          1        0        0      US  \n",
       "4              0          1          1        0        0      US  "
      ]
     },
     "execution_count": 180,
     "metadata": {},
     "output_type": "execute_result"
    }
   ],
   "source": [
    "result.head()"
   ]
  },
  {
   "cell_type": "code",
   "execution_count": 556,
   "metadata": {},
   "outputs": [],
   "source": [
    "####  df_new = countries_df.set_index('user_id').join(df2.set_index('user_id'), how='inner')"
   ]
  },
  {
   "cell_type": "markdown",
   "metadata": {},
   "source": [
    "<p style=\"color:red\">  NO need for this complex code"
   ]
  },
  {
   "cell_type": "code",
   "execution_count": 182,
   "metadata": {},
   "outputs": [
    {
     "data": {
      "text/plain": [
       "(290585, 11)"
      ]
     },
     "execution_count": 182,
     "metadata": {},
     "output_type": "execute_result"
    }
   ],
   "source": [
    "df_new=pd.DataFrame()\n",
    "df_new=result\n",
    "df_new.shape"
   ]
  },
  {
   "cell_type": "code",
   "execution_count": 183,
   "metadata": {},
   "outputs": [
    {
     "data": {
      "text/html": [
       "<div>\n",
       "<style scoped>\n",
       "    .dataframe tbody tr th:only-of-type {\n",
       "        vertical-align: middle;\n",
       "    }\n",
       "\n",
       "    .dataframe tbody tr th {\n",
       "        vertical-align: top;\n",
       "    }\n",
       "\n",
       "    .dataframe thead th {\n",
       "        text-align: right;\n",
       "    }\n",
       "</style>\n",
       "<table border=\"1\" class=\"dataframe\">\n",
       "  <thead>\n",
       "    <tr style=\"text-align: right;\">\n",
       "      <th></th>\n",
       "      <th>user_id</th>\n",
       "      <th>timestamp</th>\n",
       "      <th>group</th>\n",
       "      <th>landing_page</th>\n",
       "      <th>converted</th>\n",
       "      <th>not_converted</th>\n",
       "      <th>intersept</th>\n",
       "      <th>treatment</th>\n",
       "      <th>control</th>\n",
       "      <th>ab_page</th>\n",
       "      <th>country</th>\n",
       "    </tr>\n",
       "  </thead>\n",
       "  <tbody>\n",
       "    <tr>\n",
       "      <td>0</td>\n",
       "      <td>851104</td>\n",
       "      <td>2017-01-21 22:11:48.556739</td>\n",
       "      <td>control</td>\n",
       "      <td>old_page</td>\n",
       "      <td>1</td>\n",
       "      <td>0</td>\n",
       "      <td>1</td>\n",
       "      <td>1</td>\n",
       "      <td>0</td>\n",
       "      <td>0</td>\n",
       "      <td>US</td>\n",
       "    </tr>\n",
       "    <tr>\n",
       "      <td>1</td>\n",
       "      <td>804228</td>\n",
       "      <td>2017-01-12 08:01:45.159739</td>\n",
       "      <td>control</td>\n",
       "      <td>old_page</td>\n",
       "      <td>1</td>\n",
       "      <td>0</td>\n",
       "      <td>1</td>\n",
       "      <td>1</td>\n",
       "      <td>0</td>\n",
       "      <td>0</td>\n",
       "      <td>US</td>\n",
       "    </tr>\n",
       "    <tr>\n",
       "      <td>2</td>\n",
       "      <td>864975</td>\n",
       "      <td>2017-01-21 01:52:26.210827</td>\n",
       "      <td>control</td>\n",
       "      <td>old_page</td>\n",
       "      <td>0</td>\n",
       "      <td>1</td>\n",
       "      <td>1</td>\n",
       "      <td>1</td>\n",
       "      <td>0</td>\n",
       "      <td>0</td>\n",
       "      <td>US</td>\n",
       "    </tr>\n",
       "    <tr>\n",
       "      <td>3</td>\n",
       "      <td>936923</td>\n",
       "      <td>2017-01-10 15:20:49.083499</td>\n",
       "      <td>control</td>\n",
       "      <td>old_page</td>\n",
       "      <td>1</td>\n",
       "      <td>0</td>\n",
       "      <td>1</td>\n",
       "      <td>1</td>\n",
       "      <td>0</td>\n",
       "      <td>0</td>\n",
       "      <td>US</td>\n",
       "    </tr>\n",
       "    <tr>\n",
       "      <td>4</td>\n",
       "      <td>719014</td>\n",
       "      <td>2017-01-17 01:48:29.539573</td>\n",
       "      <td>control</td>\n",
       "      <td>old_page</td>\n",
       "      <td>1</td>\n",
       "      <td>0</td>\n",
       "      <td>1</td>\n",
       "      <td>1</td>\n",
       "      <td>0</td>\n",
       "      <td>0</td>\n",
       "      <td>US</td>\n",
       "    </tr>\n",
       "  </tbody>\n",
       "</table>\n",
       "</div>"
      ],
      "text/plain": [
       "   user_id                   timestamp    group landing_page  converted  \\\n",
       "0   851104  2017-01-21 22:11:48.556739  control     old_page          1   \n",
       "1   804228  2017-01-12 08:01:45.159739  control     old_page          1   \n",
       "2   864975  2017-01-21 01:52:26.210827  control     old_page          0   \n",
       "3   936923  2017-01-10 15:20:49.083499  control     old_page          1   \n",
       "4   719014  2017-01-17 01:48:29.539573  control     old_page          1   \n",
       "\n",
       "   not_converted  intersept  treatment  control  ab_page country  \n",
       "0              0          1          1        0        0      US  \n",
       "1              0          1          1        0        0      US  \n",
       "2              1          1          1        0        0      US  \n",
       "3              0          1          1        0        0      US  \n",
       "4              0          1          1        0        0      US  "
      ]
     },
     "execution_count": 183,
     "metadata": {},
     "output_type": "execute_result"
    }
   ],
   "source": [
    "df_new.head()"
   ]
  },
  {
   "cell_type": "markdown",
   "metadata": {},
   "source": [
    "h. Though you have now looked at the individual factors of country and page on conversion, we would now like to look at an interaction between page and country to see if there significant effects on conversion.  Create the necessary additional columns, and fit the new model.  \n",
    "\n",
    "Provide the summary results, and your conclusions based on the results."
   ]
  },
  {
   "cell_type": "code",
   "execution_count": null,
   "metadata": {
    "collapsed": true
   },
   "outputs": [],
   "source": [
    "### Create the necessary dummy variables"
   ]
  },
  {
   "cell_type": "code",
   "execution_count": 184,
   "metadata": {},
   "outputs": [
    {
     "data": {
      "text/plain": [
       "array(['UK', 'US', 'CA'], dtype=object)"
      ]
     },
     "execution_count": 184,
     "metadata": {},
     "output_type": "execute_result"
    }
   ],
   "source": [
    "countries_df.country.unique()"
   ]
  },
  {
   "cell_type": "code",
   "execution_count": 186,
   "metadata": {},
   "outputs": [],
   "source": [
    "df_new[[ 'UK','US','CA']] = pd.get_dummies(df_new['country'])"
   ]
  },
  {
   "cell_type": "code",
   "execution_count": 187,
   "metadata": {},
   "outputs": [
    {
     "data": {
      "text/html": [
       "<div>\n",
       "<style scoped>\n",
       "    .dataframe tbody tr th:only-of-type {\n",
       "        vertical-align: middle;\n",
       "    }\n",
       "\n",
       "    .dataframe tbody tr th {\n",
       "        vertical-align: top;\n",
       "    }\n",
       "\n",
       "    .dataframe thead th {\n",
       "        text-align: right;\n",
       "    }\n",
       "</style>\n",
       "<table border=\"1\" class=\"dataframe\">\n",
       "  <thead>\n",
       "    <tr style=\"text-align: right;\">\n",
       "      <th></th>\n",
       "      <th>user_id</th>\n",
       "      <th>timestamp</th>\n",
       "      <th>group</th>\n",
       "      <th>landing_page</th>\n",
       "      <th>converted</th>\n",
       "      <th>not_converted</th>\n",
       "      <th>intersept</th>\n",
       "      <th>treatment</th>\n",
       "      <th>control</th>\n",
       "      <th>ab_page</th>\n",
       "      <th>country</th>\n",
       "      <th>UK</th>\n",
       "      <th>US</th>\n",
       "      <th>CA</th>\n",
       "    </tr>\n",
       "  </thead>\n",
       "  <tbody>\n",
       "    <tr>\n",
       "      <td>0</td>\n",
       "      <td>851104</td>\n",
       "      <td>2017-01-21 22:11:48.556739</td>\n",
       "      <td>control</td>\n",
       "      <td>old_page</td>\n",
       "      <td>1</td>\n",
       "      <td>0</td>\n",
       "      <td>1</td>\n",
       "      <td>1</td>\n",
       "      <td>0</td>\n",
       "      <td>0</td>\n",
       "      <td>US</td>\n",
       "      <td>0</td>\n",
       "      <td>0</td>\n",
       "      <td>1</td>\n",
       "    </tr>\n",
       "    <tr>\n",
       "      <td>1</td>\n",
       "      <td>804228</td>\n",
       "      <td>2017-01-12 08:01:45.159739</td>\n",
       "      <td>control</td>\n",
       "      <td>old_page</td>\n",
       "      <td>1</td>\n",
       "      <td>0</td>\n",
       "      <td>1</td>\n",
       "      <td>1</td>\n",
       "      <td>0</td>\n",
       "      <td>0</td>\n",
       "      <td>US</td>\n",
       "      <td>0</td>\n",
       "      <td>0</td>\n",
       "      <td>1</td>\n",
       "    </tr>\n",
       "    <tr>\n",
       "      <td>2</td>\n",
       "      <td>864975</td>\n",
       "      <td>2017-01-21 01:52:26.210827</td>\n",
       "      <td>control</td>\n",
       "      <td>old_page</td>\n",
       "      <td>0</td>\n",
       "      <td>1</td>\n",
       "      <td>1</td>\n",
       "      <td>1</td>\n",
       "      <td>0</td>\n",
       "      <td>0</td>\n",
       "      <td>US</td>\n",
       "      <td>0</td>\n",
       "      <td>0</td>\n",
       "      <td>1</td>\n",
       "    </tr>\n",
       "    <tr>\n",
       "      <td>3</td>\n",
       "      <td>936923</td>\n",
       "      <td>2017-01-10 15:20:49.083499</td>\n",
       "      <td>control</td>\n",
       "      <td>old_page</td>\n",
       "      <td>1</td>\n",
       "      <td>0</td>\n",
       "      <td>1</td>\n",
       "      <td>1</td>\n",
       "      <td>0</td>\n",
       "      <td>0</td>\n",
       "      <td>US</td>\n",
       "      <td>0</td>\n",
       "      <td>0</td>\n",
       "      <td>1</td>\n",
       "    </tr>\n",
       "    <tr>\n",
       "      <td>4</td>\n",
       "      <td>719014</td>\n",
       "      <td>2017-01-17 01:48:29.539573</td>\n",
       "      <td>control</td>\n",
       "      <td>old_page</td>\n",
       "      <td>1</td>\n",
       "      <td>0</td>\n",
       "      <td>1</td>\n",
       "      <td>1</td>\n",
       "      <td>0</td>\n",
       "      <td>0</td>\n",
       "      <td>US</td>\n",
       "      <td>0</td>\n",
       "      <td>0</td>\n",
       "      <td>1</td>\n",
       "    </tr>\n",
       "  </tbody>\n",
       "</table>\n",
       "</div>"
      ],
      "text/plain": [
       "   user_id                   timestamp    group landing_page  converted  \\\n",
       "0   851104  2017-01-21 22:11:48.556739  control     old_page          1   \n",
       "1   804228  2017-01-12 08:01:45.159739  control     old_page          1   \n",
       "2   864975  2017-01-21 01:52:26.210827  control     old_page          0   \n",
       "3   936923  2017-01-10 15:20:49.083499  control     old_page          1   \n",
       "4   719014  2017-01-17 01:48:29.539573  control     old_page          1   \n",
       "\n",
       "   not_converted  intersept  treatment  control  ab_page country  UK  US  CA  \n",
       "0              0          1          1        0        0      US   0   0   1  \n",
       "1              0          1          1        0        0      US   0   0   1  \n",
       "2              1          1          1        0        0      US   0   0   1  \n",
       "3              0          1          1        0        0      US   0   0   1  \n",
       "4              0          1          1        0        0      US   0   0   1  "
      ]
     },
     "execution_count": 187,
     "metadata": {},
     "output_type": "execute_result"
    }
   ],
   "source": [
    "df_new.head()"
   ]
  },
  {
   "cell_type": "markdown",
   "metadata": {},
   "source": [
    "<font color ='darkblue'> <h2>creating higher order term representing th interaction between the country and the pages as  suggested"
   ]
  },
  {
   "cell_type": "code",
   "execution_count": 188,
   "metadata": {},
   "outputs": [],
   "source": [
    "df_new['US_ab_page'] = df_new['US'] * df_new['ab_page']"
   ]
  },
  {
   "cell_type": "code",
   "execution_count": 189,
   "metadata": {},
   "outputs": [
    {
     "data": {
      "text/html": [
       "<div>\n",
       "<style scoped>\n",
       "    .dataframe tbody tr th:only-of-type {\n",
       "        vertical-align: middle;\n",
       "    }\n",
       "\n",
       "    .dataframe tbody tr th {\n",
       "        vertical-align: top;\n",
       "    }\n",
       "\n",
       "    .dataframe thead th {\n",
       "        text-align: right;\n",
       "    }\n",
       "</style>\n",
       "<table border=\"1\" class=\"dataframe\">\n",
       "  <thead>\n",
       "    <tr style=\"text-align: right;\">\n",
       "      <th></th>\n",
       "      <th>user_id</th>\n",
       "      <th>timestamp</th>\n",
       "      <th>group</th>\n",
       "      <th>landing_page</th>\n",
       "      <th>converted</th>\n",
       "      <th>not_converted</th>\n",
       "      <th>intersept</th>\n",
       "      <th>treatment</th>\n",
       "      <th>control</th>\n",
       "      <th>ab_page</th>\n",
       "      <th>country</th>\n",
       "      <th>UK</th>\n",
       "      <th>US</th>\n",
       "      <th>CA</th>\n",
       "      <th>US_ab_page</th>\n",
       "    </tr>\n",
       "  </thead>\n",
       "  <tbody>\n",
       "    <tr>\n",
       "      <td>0</td>\n",
       "      <td>851104</td>\n",
       "      <td>2017-01-21 22:11:48.556739</td>\n",
       "      <td>control</td>\n",
       "      <td>old_page</td>\n",
       "      <td>1</td>\n",
       "      <td>0</td>\n",
       "      <td>1</td>\n",
       "      <td>1</td>\n",
       "      <td>0</td>\n",
       "      <td>0</td>\n",
       "      <td>US</td>\n",
       "      <td>0</td>\n",
       "      <td>0</td>\n",
       "      <td>1</td>\n",
       "      <td>0</td>\n",
       "    </tr>\n",
       "    <tr>\n",
       "      <td>1</td>\n",
       "      <td>804228</td>\n",
       "      <td>2017-01-12 08:01:45.159739</td>\n",
       "      <td>control</td>\n",
       "      <td>old_page</td>\n",
       "      <td>1</td>\n",
       "      <td>0</td>\n",
       "      <td>1</td>\n",
       "      <td>1</td>\n",
       "      <td>0</td>\n",
       "      <td>0</td>\n",
       "      <td>US</td>\n",
       "      <td>0</td>\n",
       "      <td>0</td>\n",
       "      <td>1</td>\n",
       "      <td>0</td>\n",
       "    </tr>\n",
       "  </tbody>\n",
       "</table>\n",
       "</div>"
      ],
      "text/plain": [
       "   user_id                   timestamp    group landing_page  converted  \\\n",
       "0   851104  2017-01-21 22:11:48.556739  control     old_page          1   \n",
       "1   804228  2017-01-12 08:01:45.159739  control     old_page          1   \n",
       "\n",
       "   not_converted  intersept  treatment  control  ab_page country  UK  US  CA  \\\n",
       "0              0          1          1        0        0      US   0   0   1   \n",
       "1              0          1          1        0        0      US   0   0   1   \n",
       "\n",
       "   US_ab_page  \n",
       "0           0  \n",
       "1           0  "
      ]
     },
     "execution_count": 189,
     "metadata": {},
     "output_type": "execute_result"
    }
   ],
   "source": [
    "df_new.head(2)"
   ]
  },
  {
   "cell_type": "code",
   "execution_count": 190,
   "metadata": {},
   "outputs": [
    {
     "name": "stdout",
     "output_type": "stream",
     "text": [
      "Optimization terminated successfully.\n",
      "         Current function value: 0.112140\n",
      "         Iterations 6\n"
     ]
    },
    {
     "name": "stderr",
     "output_type": "stream",
     "text": [
      "/home/ragia/anaconda3/lib/python3.7/site-packages/statsmodels/base/model.py:492: HessianInversionWarning: Inverting hessian failed, no bse or cov_params available\n",
      "  'available', HessianInversionWarning)\n",
      "/home/ragia/anaconda3/lib/python3.7/site-packages/statsmodels/base/model.py:492: HessianInversionWarning: Inverting hessian failed, no bse or cov_params available\n",
      "  'available', HessianInversionWarning)\n",
      "/home/ragia/anaconda3/lib/python3.7/site-packages/statsmodels/discrete/discrete_model.py:3390: RuntimeWarning: divide by zero encountered in double_scalars\n",
      "  return 1 - self.llf/self.llnull\n"
     ]
    },
    {
     "data": {
      "text/html": [
       "<table class=\"simpletable\">\n",
       "<tr>\n",
       "        <td>Model:</td>              <td>Logit</td>      <td>Pseudo R-squared:</td>     <td>inf</td>   \n",
       "</tr>\n",
       "<tr>\n",
       "  <td>Dependent Variable:</td>     <td>converted</td>          <td>AIC:</td>        <td>65182.4925</td>\n",
       "</tr>\n",
       "<tr>\n",
       "         <td>Date:</td>        <td>2020-09-30 09:55</td>       <td>BIC:</td>        <td>65235.3907</td>\n",
       "</tr>\n",
       "<tr>\n",
       "   <td>No. Observations:</td>       <td>290585</td>       <td>Log-Likelihood:</td>    <td>-32586.</td> \n",
       "</tr>\n",
       "<tr>\n",
       "       <td>Df Model:</td>              <td>4</td>            <td>LL-Null:</td>        <td>0.0000</td>  \n",
       "</tr>\n",
       "<tr>\n",
       "     <td>Df Residuals:</td>         <td>290580</td>        <td>LLR p-value:</td>      <td>1.0000</td>  \n",
       "</tr>\n",
       "<tr>\n",
       "      <td>Converged:</td>           <td>1.0000</td>           <td>Scale:</td>         <td>1.0000</td>  \n",
       "</tr>\n",
       "<tr>\n",
       "    <td>No. Iterations:</td>        <td>6.0000</td>              <td></td>               <td></td>     \n",
       "</tr>\n",
       "</table>\n",
       "<table class=\"simpletable\">\n",
       "<tr>\n",
       "       <td></td>       <th>Coef.</th>  <th>Std.Err.</th>    <th>z</th>     <th>P>|z|</th> <th>[0.025</th>  <th>0.975]</th>\n",
       "</tr>\n",
       "<tr>\n",
       "  <th>intersept</th>  <td>2.0257</td>   <td>0.0268</td>  <td>75.5179</td> <td>0.0000</td> <td>1.9731</td>  <td>2.0783</td>\n",
       "</tr>\n",
       "<tr>\n",
       "  <th>ab_page</th>    <td>0.0236</td>   <td>0.0132</td>  <td>1.7861</td>  <td>0.0741</td> <td>-0.0023</td> <td>0.0495</td>\n",
       "</tr>\n",
       "<tr>\n",
       "  <th>CA</th>         <td>-0.0407</td>  <td>0.0269</td>  <td>-1.5149</td> <td>0.1298</td> <td>-0.0934</td> <td>0.0120</td>\n",
       "</tr>\n",
       "<tr>\n",
       "  <th>US</th>         <td>-0.0335</td>  <td>0.0313</td>  <td>-1.0695</td> <td>0.2848</td> <td>-0.0948</td> <td>0.0279</td>\n",
       "</tr>\n",
       "<tr>\n",
       "  <th>US_ab_page</th> <td>-0.0344</td>  <td>0.0264</td>  <td>-1.3061</td> <td>0.1915</td> <td>-0.0861</td> <td>0.0172</td>\n",
       "</tr>\n",
       "</table>"
      ],
      "text/plain": [
       "<class 'statsmodels.iolib.summary2.Summary'>\n",
       "\"\"\"\n",
       "                         Results: Logit\n",
       "=================================================================\n",
       "Model:              Logit            Pseudo R-squared: inf       \n",
       "Dependent Variable: converted        AIC:              65182.4925\n",
       "Date:               2020-09-30 09:55 BIC:              65235.3907\n",
       "No. Observations:   290585           Log-Likelihood:   -32586.   \n",
       "Df Model:           4                LL-Null:          0.0000    \n",
       "Df Residuals:       290580           LLR p-value:      1.0000    \n",
       "Converged:          1.0000           Scale:            1.0000    \n",
       "No. Iterations:     6.0000                                       \n",
       "------------------------------------------------------------------\n",
       "                Coef.   Std.Err.     z     P>|z|    [0.025  0.975]\n",
       "------------------------------------------------------------------\n",
       "intersept       2.0257    0.0268  75.5179  0.0000   1.9731  2.0783\n",
       "ab_page         0.0236    0.0132   1.7861  0.0741  -0.0023  0.0495\n",
       "CA             -0.0407    0.0269  -1.5149  0.1298  -0.0934  0.0120\n",
       "US             -0.0335    0.0313  -1.0695  0.2848  -0.0948  0.0279\n",
       "US_ab_page     -0.0344    0.0264  -1.3061  0.1915  -0.0861  0.0172\n",
       "=================================================================\n",
       "\n",
       "\"\"\""
      ]
     },
     "execution_count": 190,
     "metadata": {},
     "output_type": "execute_result"
    }
   ],
   "source": [
    "### Fit Your Linear Model And Obtain the Results\n",
    "#df_new['intersept']=1\n",
    "log_modl = sm.Logit(df_new['converted'], df_new[['intersept', 'ab_page', 'CA','US','US_ab_page']])\n",
    "results  =  log_modl.fit()\n",
    "results.summary2()"
   ]
  },
  {
   "cell_type": "code",
   "execution_count": 192,
   "metadata": {},
   "outputs": [],
   "source": [
    "ab,ca,us,US_ab_page= (1-np.exp(0.0741)), np.exp(0.1298), np.exp(-0.2848),np.exp(-0.0861)"
   ]
  },
  {
   "cell_type": "code",
   "execution_count": 193,
   "metadata": {},
   "outputs": [
    {
     "data": {
      "text/plain": [
       "(-0.07691449156098296,\n",
       " 1.1386006404230062,\n",
       " 0.7521646722115344,\n",
       " 0.9175024763848472)"
      ]
     },
     "execution_count": 193,
     "metadata": {},
     "output_type": "execute_result"
    }
   ],
   "source": [
    "ab,ca,us,US_ab_page"
   ]
  },
  {
   "cell_type": "markdown",
   "metadata": {},
   "source": [
    "<p style=\"color:red\"> <B>for each one unit increase on ab,ca , us and US_ab_page for each of them the converted \n",
    "will mytiplactivly increase by the exponated coef, when other coef are not changed\n",
    "from this we can see that the country influence is the largest one and it acauses around one \n",
    "unit increase if other features not changed\n"
   ]
  },
  {
   "cell_type": "code",
   "execution_count": 196,
   "metadata": {},
   "outputs": [
    {
     "data": {
      "image/png": "[encoded data removed]",
      "text/plain": [
       "<Figure size 1080x1080 with 42 Axes>"
      ]
     },
     "metadata": {
      "needs_background": "light"
     },
     "output_type": "display_data"
    }
   ],
   "source": [
    "sb.pairplot(df_new[[ 'CA','US','US_ab_page','UK',   'ab_page','converted']]);"
   ]
  },
  {
   "cell_type": "markdown",
   "metadata": {},
   "source": [
    "<a id='conclusions'></a>\n",
    "## Conclusions\n",
    "\n",
    "Congratulations on completing the project! \n",
    "\n",
    "### Gather Submission Materials\n",
    "\n",
    "Once you are satisfied with the status of your Notebook, you should save it in a format that will make it easy for others to read. You can use the __File -> Download as -> HTML (.html)__ menu to save your notebook as an .html file. If you are working locally and get an error about \"No module name\", then open a terminal and try installing the missing module using `pip install <module_name>` (don't include the \"<\" or \">\" or any words following a period in the module name).\n",
    "\n",
    "You will submit both your original Notebook and an HTML or PDF copy of the Notebook for review. There is no need for you to include any data files with your submission. If you made reference to other websites, books, and other resources to help you in solving tasks in the project, make sure that you document them. It is recommended that you either add a \"Resources\" section in a Markdown cell at the end of the Notebook report, or you can include a `readme.txt` file documenting your sources.\n",
    "\n",
    "### Submit the Project\n",
    "\n",
    "When you're ready, click on the \"Submit Project\" button to go to the project submission page. You can submit your files as a .zip archive or you can link to a GitHub repository containing your project files. If you go with GitHub, note that your submission will be a snapshot of the linked repository at time of submission. It is recommended that you keep each project in a separate repository to avoid any potential confusion: if a reviewer gets multiple folders representing multiple projects, there might be confusion regarding what project is to be evaluated.\n",
    "\n",
    "It can take us up to a week to grade the project, but in most cases it is much faster. You will get an email once your submission has been reviewed. If you are having any problems submitting your project or wish to check on the status of your submission, please email us at dataanalyst-project@udacity.com. In the meantime, you should feel free to continue on with your learning journey by beginning the next module in the program."
   ]
  },
  {
   "cell_type": "code",
   "execution_count": null,
   "metadata": {
    "collapsed": true
   },
   "outputs": [],
   "source": []
  }
 ],
 "metadata": {
  "kernelspec": {
   "display_name": "Python 3",
   "language": "python",
   "name": "python3"
  },
  "language_info": {
   "codemirror_mode": {
    "name": "ipython",
    "version": 3
   },
   "file_extension": ".py",
   "mimetype": "text/x-python",
   "name": "python",
   "nbconvert_exporter": "python",
   "pygments_lexer": "ipython3",
   "version": "3.7.4"
  }
 },
 "nbformat": 4,
 "nbformat_minor": 2
}
